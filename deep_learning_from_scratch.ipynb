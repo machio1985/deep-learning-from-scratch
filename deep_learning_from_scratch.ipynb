{
  "nbformat": 4,
  "nbformat_minor": 0,
  "metadata": {
    "colab": {
      "name": "deep-learning-from-scratch.ipynb",
      "provenance": [],
      "collapsed_sections": [],
      "mount_file_id": "1TCj1NXEQ526Ei3YxKsi_zhcYoPeYVN71",
      "authorship_tag": "ABX9TyMcoPEl4OHSwr/sOGXfTkvs",
      "include_colab_link": true
    },
    "kernelspec": {
      "name": "python3",
      "display_name": "Python 3"
    },
    "language_info": {
      "name": "python"
    }
  },
  "cells": [
    {
      "cell_type": "markdown",
      "metadata": {
        "id": "view-in-github",
        "colab_type": "text"
      },
      "source": [
        "<a href=\"https://colab.research.google.com/github/machio1985/deep-learning-from-scratch/blob/master/deep_learning_from_scratch.ipynb\" target=\"_parent\"><img src=\"https://colab.research.google.com/assets/colab-badge.svg\" alt=\"Open In Colab\"/></a>"
      ]
    },
    {
      "cell_type": "markdown",
      "metadata": {
        "id": "LQKF1naDpVx6"
      },
      "source": [
        "# deep-learning-from-scratch"
      ]
    },
    {
      "cell_type": "markdown",
      "metadata": {
        "id": "2rgvX4Krs22X"
      },
      "source": [
        "作成：2021/07/04"
      ]
    },
    {
      "cell_type": "code",
      "metadata": {
        "colab": {
          "base_uri": "https://localhost:8080/"
        },
        "id": "paCxxsZppsRH",
        "outputId": "0e6263fa-260b-4006-d052-9327d8f7cf4a"
      },
      "source": [
        "%cd /content/drive/MyDrive"
      ],
      "execution_count": 1,
      "outputs": [
        {
          "output_type": "stream",
          "text": [
            "/content/drive/MyDrive\n"
          ],
          "name": "stdout"
        }
      ]
    },
    {
      "cell_type": "code",
      "metadata": {
        "colab": {
          "base_uri": "https://localhost:8080/"
        },
        "id": "czYYc2d1p5DW",
        "outputId": "bd4eeab6-045d-442b-918f-be07c5117151"
      },
      "source": [
        "!git clone https://github.com/machio1985/deep-learning-from-scratch.git"
      ],
      "execution_count": 2,
      "outputs": [
        {
          "output_type": "stream",
          "text": [
            "Cloning into 'deep-learning-from-scratch'...\n",
            "remote: Enumerating objects: 457, done.\u001b[K\n",
            "remote: Counting objects: 100% (4/4), done.\u001b[K\n",
            "remote: Compressing objects: 100% (4/4), done.\u001b[K\n",
            "remote: Total 457 (delta 0), reused 1 (delta 0), pack-reused 453\u001b[K\n",
            "Receiving objects: 100% (457/457), 5.52 MiB | 13.82 MiB/s, done.\n",
            "Resolving deltas: 100% (235/235), done.\n"
          ],
          "name": "stdout"
        }
      ]
    },
    {
      "cell_type": "markdown",
      "metadata": {
        "id": "riSPQNodrQDw"
      },
      "source": [
        "## ch01\n"
      ]
    },
    {
      "cell_type": "markdown",
      "metadata": {
        "id": "CIWOdpzruRAg"
      },
      "source": [
        "### P11"
      ]
    },
    {
      "cell_type": "code",
      "metadata": {
        "colab": {
          "base_uri": "https://localhost:8080/"
        },
        "id": "wgEMVqd2rSyj",
        "outputId": "fd17d091-7637-431d-e861-34f746b89857"
      },
      "source": [
        "# coding: utf-8\n",
        "class Man:\n",
        "    \"\"\"サンプルクラス\"\"\"\n",
        "\n",
        "    def __init__(self,name):\n",
        "        self.name = name\n",
        "        print(\"Initilized!\")\n",
        "\n",
        "    def hello(self):\n",
        "        print(\"Hello \" + self.name + \"!\")\n",
        "\n",
        "    def goodbye(self):\n",
        "        print(\"Good-bye \" + self.name + \"!\")\n",
        "\n",
        "m = Man(\"David\")\n",
        "m.hello()\n",
        "m.goodbye()"
      ],
      "execution_count": 14,
      "outputs": [
        {
          "output_type": "stream",
          "text": [
            "Initilized!\n",
            "Hello David!\n",
            "Good-bye David!\n"
          ],
          "name": "stdout"
        }
      ]
    },
    {
      "cell_type": "markdown",
      "metadata": {
        "id": "oS7nlfeyr-uC"
      },
      "source": [
        "* クラスを定義する時にはselfで初期化が必要。\n"
      ]
    },
    {
      "cell_type": "markdown",
      "metadata": {
        "id": "G_UpFoFIuWvz"
      },
      "source": [
        "### P15"
      ]
    },
    {
      "cell_type": "code",
      "metadata": {
        "colab": {
          "base_uri": "https://localhost:8080/"
        },
        "id": "Fp9R_GjWuPXU",
        "outputId": "04634b8d-eca3-4d9b-9c08-10430de5db55"
      },
      "source": [
        "import numpy as np\n",
        "\n",
        "X = np.array([[51,55],[14,19],[0,4]])\n",
        "print(X)"
      ],
      "execution_count": 6,
      "outputs": [
        {
          "output_type": "stream",
          "text": [
            "[[51 55]\n",
            " [14 19]\n",
            " [ 0  4]]\n"
          ],
          "name": "stdout"
        }
      ]
    },
    {
      "cell_type": "code",
      "metadata": {
        "colab": {
          "base_uri": "https://localhost:8080/"
        },
        "id": "G4qROSvCur-n",
        "outputId": "428d44b2-a0c2-4c57-d282-2ad9fe4769ad"
      },
      "source": [
        "for row in X:\n",
        "  print(row)"
      ],
      "execution_count": 7,
      "outputs": [
        {
          "output_type": "stream",
          "text": [
            "[51 55]\n",
            "[14 19]\n",
            "[0 4]\n"
          ],
          "name": "stdout"
        }
      ]
    },
    {
      "cell_type": "markdown",
      "metadata": {
        "id": "PGp7Z_NNvn2J"
      },
      "source": [
        "### P17"
      ]
    },
    {
      "cell_type": "code",
      "metadata": {
        "id": "vLoUwuhlvps1"
      },
      "source": [
        "import matplotlib.pyplot as plt\n",
        "x = np.arange(0,6,0.1)\n",
        "y = np.sin(x)"
      ],
      "execution_count": 15,
      "outputs": []
    },
    {
      "cell_type": "code",
      "metadata": {
        "colab": {
          "base_uri": "https://localhost:8080/",
          "height": 265
        },
        "id": "jpEdq8CawNIg",
        "outputId": "e6b148be-e18d-46ef-cf9b-3d1c425bfe64"
      },
      "source": [
        "plt.plot(x,y)\n",
        "plt.show()"
      ],
      "execution_count": 13,
      "outputs": [
        {
          "output_type": "display_data",
          "data": {
            "image/png": "[encoded data removed]",
            "text/plain": [
              "<Figure size 432x288 with 1 Axes>"
            ]
          },
          "metadata": {
            "tags": [],
            "needs_background": "light"
          }
        }
      ]
    },
    {
      "cell_type": "markdown",
      "metadata": {
        "id": "2IKEk-ZL2ogs"
      },
      "source": [
        "## ch02\n"
      ]
    },
    {
      "cell_type": "markdown",
      "metadata": {
        "id": "sghVamJ135cm"
      },
      "source": [
        "### P25"
      ]
    },
    {
      "cell_type": "code",
      "metadata": {
        "id": "x2Nr2JYO2w9U"
      },
      "source": [
        "def AND(x1,x2):\n",
        "  w1,w2,theta = 0.5,0.5,0.7\n",
        "  tmp = x1*w1 + x2*w2 \n",
        "  if tmp <= theta :\n",
        "    return 0\n",
        "  elif tmp > theta:\n",
        "    return 1"
      ],
      "execution_count": 20,
      "outputs": []
    },
    {
      "cell_type": "code",
      "metadata": {
        "colab": {
          "base_uri": "https://localhost:8080/"
        },
        "id": "Vl7NN6gS4PaF",
        "outputId": "9a63936a-4844-400d-af83-f89d12e6c8df"
      },
      "source": [
        "AND(0,0)"
      ],
      "execution_count": 23,
      "outputs": [
        {
          "output_type": "execute_result",
          "data": {
            "text/plain": [
              "0"
            ]
          },
          "metadata": {
            "tags": []
          },
          "execution_count": 23
        }
      ]
    },
    {
      "cell_type": "code",
      "metadata": {
        "colab": {
          "base_uri": "https://localhost:8080/"
        },
        "id": "jdzjOxSX4Vxw",
        "outputId": "c92136f9-1cae-48c0-c4ff-b0c0168634ad"
      },
      "source": [
        "AND(1,0)"
      ],
      "execution_count": 24,
      "outputs": [
        {
          "output_type": "execute_result",
          "data": {
            "text/plain": [
              "0"
            ]
          },
          "metadata": {
            "tags": []
          },
          "execution_count": 24
        }
      ]
    },
    {
      "cell_type": "code",
      "metadata": {
        "colab": {
          "base_uri": "https://localhost:8080/"
        },
        "id": "JqwsT6Ed4XW0",
        "outputId": "e3be7144-7dc3-4603-9af8-1e43f47d3baa"
      },
      "source": [
        "AND(0,1)"
      ],
      "execution_count": 25,
      "outputs": [
        {
          "output_type": "execute_result",
          "data": {
            "text/plain": [
              "0"
            ]
          },
          "metadata": {
            "tags": []
          },
          "execution_count": 25
        }
      ]
    },
    {
      "cell_type": "code",
      "metadata": {
        "colab": {
          "base_uri": "https://localhost:8080/"
        },
        "id": "NmKG2ALW4YV8",
        "outputId": "f26a84e7-c096-4a39-8a3a-58d289ce98a7"
      },
      "source": [
        "AND(1,1)"
      ],
      "execution_count": 26,
      "outputs": [
        {
          "output_type": "execute_result",
          "data": {
            "text/plain": [
              "1"
            ]
          },
          "metadata": {
            "tags": []
          },
          "execution_count": 26
        }
      ]
    },
    {
      "cell_type": "code",
      "metadata": {
        "id": "Y7I8nL5LOc8m"
      },
      "source": [
        ""
      ],
      "execution_count": null,
      "outputs": []
    },
    {
      "cell_type": "markdown",
      "metadata": {
        "id": "qsTNzGapOiMh"
      },
      "source": [
        "### 2,3.2 重みとバイアス"
      ]
    },
    {
      "cell_type": "code",
      "metadata": {
        "colab": {
          "base_uri": "https://localhost:8080/"
        },
        "id": "c7iGBJaWOiqT",
        "outputId": "4aabc093-7d1f-494a-a6d7-73eaacf26ded"
      },
      "source": [
        "import numpy as np\n",
        "x = np.array([ 0 , 1 ])\n",
        "w = np.array([ 0.5 , 0.5 ])\n",
        "b = -0.7 \n",
        "\n",
        "w*x\n",
        "\n",
        "np.sum(w*x) + b"
      ],
      "execution_count": 30,
      "outputs": [
        {
          "output_type": "execute_result",
          "data": {
            "text/plain": [
              "-0.19999999999999996"
            ]
          },
          "metadata": {
            "tags": []
          },
          "execution_count": 30
        }
      ]
    },
    {
      "cell_type": "markdown",
      "metadata": {
        "id": "OrYT1vv4PMoc"
      },
      "source": [
        "### 2.3.3 実装\n"
      ]
    },
    {
      "cell_type": "code",
      "metadata": {
        "id": "CJZ1IGlEPYkB"
      },
      "source": [
        "def AND(x1,x2):\n",
        "  x = np.array([ x1 , x2 ])\n",
        "  w = np.array([ 0.5 , 0.5 ])\n",
        "  b = -0.7 \n",
        "  tmp = sum(x*w) + b \n",
        "  if tmp <= 0 :\n",
        "    return 0\n",
        "  else: \n",
        "    return 1"
      ],
      "execution_count": 41,
      "outputs": []
    },
    {
      "cell_type": "code",
      "metadata": {
        "id": "PbHCtV1zPqJ9"
      },
      "source": [
        "# NAND は ともに1の時だけ0\n",
        "def NAND(x1,x2):\n",
        "  x = np.array([ x1 , x2 ])\n",
        "  w = np.array([ -0.5 , -0.5 ])\n",
        "  b = 0.7 \n",
        "  tmp = sum(x*w) + b \n",
        "  if tmp <= 0 :\n",
        "    return 0\n",
        "  else :\n",
        "    return 1\n",
        "\n",
        "# ORはどちらかが1なら1\n",
        "def OR(x1,x2):\n",
        "  x = np.array([ x1 , x2 ])\n",
        "  w = np.array([ 0.5 , 0.5 ])\n",
        "  b = -0.2 \n",
        "  tmp = sum(x*w) + b \n",
        "  if tmp <= 0 :\n",
        "    return 0\n",
        "  else :\n",
        "    return 1"
      ],
      "execution_count": 35,
      "outputs": []
    },
    {
      "cell_type": "markdown",
      "metadata": {
        "id": "lF74IsLdPYyO"
      },
      "source": [
        "### XOR \n",
        "* XOR は　線形で分けれない。　　\n",
        "\n",
        "![Screen Shot 2021-07-03 at 21.10.36.png](data:image/png;base64,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)"
      ]
    },
    {
      "cell_type": "markdown",
      "metadata": {
        "id": "26dLW3vqPZfU"
      },
      "source": [
        ""
      ]
    },
    {
      "cell_type": "code",
      "metadata": {
        "id": "Fv_ulhe6T2Ss"
      },
      "source": [
        "def XOR(x1 , x2):\n",
        "  s1 = NAND(x1,x2)\n",
        "  s2 = OR(x1,x2)\n",
        "  y = AND(s1,s2)\n",
        "  return y "
      ],
      "execution_count": 42,
      "outputs": []
    },
    {
      "cell_type": "code",
      "metadata": {
        "colab": {
          "base_uri": "https://localhost:8080/"
        },
        "id": "0R7wU8wbUKUD",
        "outputId": "0744e647-4c53-4797-ea2b-a20495aca79f"
      },
      "source": [
        "XOR(1,0)"
      ],
      "execution_count": 43,
      "outputs": [
        {
          "output_type": "execute_result",
          "data": {
            "text/plain": [
              "1"
            ]
          },
          "metadata": {
            "tags": []
          },
          "execution_count": 43
        }
      ]
    },
    {
      "cell_type": "markdown",
      "metadata": {
        "id": "kHlh0M1AYZuY"
      },
      "source": [
        "##ch03　非線形関数\n",
        "### 3.2.2"
      ]
    },
    {
      "cell_type": "code",
      "metadata": {
        "id": "BBcyuekxYa-4"
      },
      "source": [
        "def step_function(x):\n",
        "   y = x > 0\n",
        "   return y.astype(np.int)"
      ],
      "execution_count": 48,
      "outputs": []
    },
    {
      "cell_type": "code",
      "metadata": {
        "colab": {
          "base_uri": "https://localhost:8080/"
        },
        "id": "rfWVq7T-Y7zJ",
        "outputId": "7472abd2-41ca-4633-8a2c-3256bf41dd19"
      },
      "source": [
        "import numpy as np\n",
        "x = np.array([-1.0,1.0,2.0])\n",
        "x "
      ],
      "execution_count": 52,
      "outputs": [
        {
          "output_type": "execute_result",
          "data": {
            "text/plain": [
              "array([-1.,  1.,  2.])"
            ]
          },
          "metadata": {
            "tags": []
          },
          "execution_count": 52
        }
      ]
    },
    {
      "cell_type": "code",
      "metadata": {
        "colab": {
          "base_uri": "https://localhost:8080/"
        },
        "id": "fFasXyYoaE0u",
        "outputId": "e8ba476d-0f7d-4269-e637-7820c08ee541"
      },
      "source": [
        "y = x > 0 \n",
        "y"
      ],
      "execution_count": 55,
      "outputs": [
        {
          "output_type": "execute_result",
          "data": {
            "text/plain": [
              "array([False,  True,  True])"
            ]
          },
          "metadata": {
            "tags": []
          },
          "execution_count": 55
        }
      ]
    },
    {
      "cell_type": "code",
      "metadata": {
        "colab": {
          "base_uri": "https://localhost:8080/"
        },
        "id": "jo9JxtVDaRyS",
        "outputId": "35bf00ca-a47b-48d5-a884-1d85308e249a"
      },
      "source": [
        "y = y.astype(np.int)\n",
        "y"
      ],
      "execution_count": 56,
      "outputs": [
        {
          "output_type": "execute_result",
          "data": {
            "text/plain": [
              "array([0, 1, 1])"
            ]
          },
          "metadata": {
            "tags": []
          },
          "execution_count": 56
        }
      ]
    },
    {
      "cell_type": "markdown",
      "metadata": {
        "id": "-Cx11hKma2Uh"
      },
      "source": [
        "### ステップ関数"
      ]
    },
    {
      "cell_type": "code",
      "metadata": {
        "colab": {
          "base_uri": "https://localhost:8080/",
          "height": 265
        },
        "id": "zq_eEfAoa33L",
        "outputId": "40b432e2-0744-421c-8e48-67e9e4fa487b"
      },
      "source": [
        "import numpy as np\n",
        "import matplotlib.pyplot as plt\n",
        "\n",
        "def step_function(x):\n",
        "  return np.array(x>0 , dtype = np.int) \n",
        "\n",
        "#arangeは15から5を0.1刻み。\n",
        "x = np.arange(-5.0,5.0,0.1)\n",
        "y = step_function(x)\n",
        "\n",
        "plt.plot(x,y)\n",
        "plt.ylim(-0.1,1.1)\n",
        "plt.show()"
      ],
      "execution_count": 62,
      "outputs": [
        {
          "output_type": "display_data",
          "data": {
            "image/png": "[encoded data removed]",
            "text/plain": [
              "<Figure size 432x288 with 1 Axes>"
            ]
          },
          "metadata": {
            "tags": [],
            "needs_background": "light"
          }
        }
      ]
    },
    {
      "cell_type": "markdown",
      "metadata": {
        "id": "7iVK0Xygb8E_"
      },
      "source": [
        "### シグモイド関数\n"
      ]
    },
    {
      "cell_type": "code",
      "metadata": {
        "id": "nh2bQshTb-fj"
      },
      "source": [
        "def sigmoid(x):\n",
        "  return 1/(1+np.exp(-x))"
      ],
      "execution_count": 63,
      "outputs": []
    },
    {
      "cell_type": "code",
      "metadata": {
        "colab": {
          "base_uri": "https://localhost:8080/"
        },
        "id": "LXWYHGyrcEtk",
        "outputId": "6dced2d5-e1b2-46f8-83c1-96d845219ff6"
      },
      "source": [
        "x = np.array([-1,1,2])\n",
        "sigmoid(x)"
      ],
      "execution_count": 65,
      "outputs": [
        {
          "output_type": "execute_result",
          "data": {
            "text/plain": [
              "array([0.26894142, 0.73105858, 0.88079708])"
            ]
          },
          "metadata": {
            "tags": []
          },
          "execution_count": 65
        }
      ]
    },
    {
      "cell_type": "code",
      "metadata": {
        "colab": {
          "base_uri": "https://localhost:8080/",
          "height": 265
        },
        "id": "vKrissVccM8A",
        "outputId": "6b5c8041-8402-4deb-d569-42b289919e70"
      },
      "source": [
        "x = np.arange(-5,5,0.1)\n",
        "y = sigmoid(x)\n",
        "plt.plot(x,y)\n",
        "plt.ylim(-0.1,1.1)\n",
        "plt.show()"
      ],
      "execution_count": 70,
      "outputs": [
        {
          "output_type": "display_data",
          "data": {
            "image/png": "[encoded data removed]",
            "text/plain": [
              "<Figure size 432x288 with 1 Axes>"
            ]
          },
          "metadata": {
            "tags": [],
            "needs_background": "light"
          }
        }
      ]
    },
    {
      "cell_type": "markdown",
      "metadata": {
        "id": "SJaqbOw4ey7h"
      },
      "source": [
        "### ニューラルネットワークの行列の積\n"
      ]
    },
    {
      "cell_type": "code",
      "metadata": {
        "colab": {
          "base_uri": "https://localhost:8080/"
        },
        "id": "_6aCl2VGe7rm",
        "outputId": "0590e143-c094-46e1-aceb-f3f6a18f4516"
      },
      "source": [
        "X = np.array([1,2])\n",
        "X.shape"
      ],
      "execution_count": 71,
      "outputs": [
        {
          "output_type": "execute_result",
          "data": {
            "text/plain": [
              "(2,)"
            ]
          },
          "metadata": {
            "tags": []
          },
          "execution_count": 71
        }
      ]
    },
    {
      "cell_type": "code",
      "metadata": {
        "colab": {
          "base_uri": "https://localhost:8080/"
        },
        "id": "vr6X-tMZe_pI",
        "outputId": "ae976db9-82bb-4d88-ee85-b0f821bb3922"
      },
      "source": [
        "W = np.array([[1,3,5],[2,4,6]])\n",
        "print(W)"
      ],
      "execution_count": 72,
      "outputs": [
        {
          "output_type": "stream",
          "text": [
            "[[1 3 5]\n",
            " [2 4 6]]\n"
          ],
          "name": "stdout"
        }
      ]
    },
    {
      "cell_type": "code",
      "metadata": {
        "colab": {
          "base_uri": "https://localhost:8080/"
        },
        "id": "nwYQoasTfF4G",
        "outputId": "b7fe24fe-3b39-4642-b9a4-456ee6b7cad4"
      },
      "source": [
        "Y = np.dot(X,W)\n",
        "print(Y)"
      ],
      "execution_count": 73,
      "outputs": [
        {
          "output_type": "stream",
          "text": [
            "[ 5 11 17]\n"
          ],
          "name": "stdout"
        }
      ]
    },
    {
      "cell_type": "markdown",
      "metadata": {
        "id": "RruKyQ_Og-Fz"
      },
      "source": [
        "###ニューラルネットワークの実装"
      ]
    },
    {
      "cell_type": "code",
      "metadata": {
        "colab": {
          "base_uri": "https://localhost:8080/"
        },
        "id": "xYo6QZ56hCI8",
        "outputId": "d0856bc8-13ec-4ed8-94cb-df129c9059e9"
      },
      "source": [
        "#１層目\n",
        "X = np.array([1,0.5])\n",
        "W1 = np.array([[0.1,0.3,0.5],[0.2,0.4,0.6]])\n",
        "B1 = np.array([0.1,0.2,0.3])\n",
        "\n",
        "#dotは行列の積\n",
        "A1 = np.dot(X,W1) + B1\n",
        "A1"
      ],
      "execution_count": 76,
      "outputs": [
        {
          "output_type": "execute_result",
          "data": {
            "text/plain": [
              "array([0.3, 0.7, 1.1])"
            ]
          },
          "metadata": {
            "tags": []
          },
          "execution_count": 76
        }
      ]
    },
    {
      "cell_type": "code",
      "metadata": {
        "colab": {
          "base_uri": "https://localhost:8080/"
        },
        "id": "rwygG6fsiXdo",
        "outputId": "1c742623-5216-484d-a116-ad2a47957ed4"
      },
      "source": [
        "Z1 = sigmoid(A1)\n",
        "Z1"
      ],
      "execution_count": 79,
      "outputs": [
        {
          "output_type": "execute_result",
          "data": {
            "text/plain": [
              "array([0.57444252, 0.66818777, 0.75026011])"
            ]
          },
          "metadata": {
            "tags": []
          },
          "execution_count": 79
        }
      ]
    },
    {
      "cell_type": "code",
      "metadata": {
        "colab": {
          "base_uri": "https://localhost:8080/"
        },
        "id": "5xoQVXmIihOd",
        "outputId": "b127536b-2b63-402f-f6e1-54b9283c0af8"
      },
      "source": [
        "#２層目\n",
        "W2 = np.array([[0.1,0.4],[0.2,0.5],[0.3,0.6]])\n",
        "B2 = np.array([0.1,0.2])\n",
        "A2 = np.dot(Z1,W2) + B2\n",
        "Z2 = sigmoid(A2)\n",
        "Z2"
      ],
      "execution_count": 82,
      "outputs": [
        {
          "output_type": "execute_result",
          "data": {
            "text/plain": [
              "array([0.62624937, 0.7710107 ])"
            ]
          },
          "metadata": {
            "tags": []
          },
          "execution_count": 82
        }
      ]
    },
    {
      "cell_type": "code",
      "metadata": {
        "colab": {
          "base_uri": "https://localhost:8080/"
        },
        "id": "6IQoba0WjZMi",
        "outputId": "ea7f4d69-3faa-4e47-d63c-85babd055567"
      },
      "source": [
        "#出力層\n",
        "\n",
        "#これはそのまま出す恒等関数\n",
        "def identity_function(x):\n",
        "  return x \n",
        "\n",
        "W3 = np.array([[0.1,0.3],[0.2,0.4]])\n",
        "B3 = np.array([0.1,0.2])\n",
        "A3 = np.dot(Z2,W3) + B3\n",
        "Z2 = sigmoid(A3)\n",
        "Y = identity_function(A3)\n",
        "Y"
      ],
      "execution_count": 85,
      "outputs": [
        {
          "output_type": "execute_result",
          "data": {
            "text/plain": [
              "array([0.29132754, 0.64051015])"
            ]
          },
          "metadata": {
            "tags": []
          },
          "execution_count": 85
        }
      ]
    },
    {
      "cell_type": "markdown",
      "metadata": {
        "id": "AJDQmWtQknCJ"
      },
      "source": [
        "### 実装まとめ\n"
      ]
    },
    {
      "cell_type": "code",
      "metadata": {
        "id": "lTWSAzb1kpAD"
      },
      "source": [
        "def init_network():\n",
        "  network = {}\n",
        "  network['W1'] = np.array([[0.1,0.3,0.5],[0.2,0.4,0.6]])\n",
        "  network['B1'] = np.array([0.1,0.2,0.3])\n",
        "\n",
        "  network['W2'] = np.array([[0.1,0.4],[0.2,0.5],[0.3,0.6]])\n",
        "  network['B2'] = np.array([0.1,0.2])\n",
        "  network['W3'] = np.array([[0.1,0.3],[0.2,0.4]])\n",
        "  network['B3'] = np.array([0.1,0.2])\n",
        "\n",
        "  return network"
      ],
      "execution_count": 90,
      "outputs": []
    },
    {
      "cell_type": "code",
      "metadata": {
        "id": "IJI3QZIBlrjh"
      },
      "source": [
        "def forword(network,x):\n",
        "  W1,W2,W3 = network['W1'] , network['W2'] , network['W3']\n",
        "  B1,B2,B3 = network['B1'] , network['B2'] , network['B3']\n",
        "\n",
        "  a1 = np.dot(x , W1) + B1 \n",
        "  z1 = sigmoid(a1)\n",
        "  a2 = np.dot(z1 , W2) + B2\n",
        "  z2 = sigmoid(a2)\n",
        "  a3 = np.dot(z2,W3) + B3 \n",
        "  y = identity_function(a3)\n",
        "\n",
        "  return y"
      ],
      "execution_count": 93,
      "outputs": []
    },
    {
      "cell_type": "code",
      "metadata": {
        "colab": {
          "base_uri": "https://localhost:8080/"
        },
        "id": "fuM_1gdQmrsM",
        "outputId": "4628725b-0872-477e-d8ee-7fe14cf1ad5d"
      },
      "source": [
        "network = init_network()\n",
        "x = np.array([1.0,0.5])\n",
        "y = forword(network,x)\n",
        "print(y)"
      ],
      "execution_count": 94,
      "outputs": [
        {
          "output_type": "stream",
          "text": [
            "[0.31682708 0.69627909]\n"
          ],
          "name": "stdout"
        }
      ]
    },
    {
      "cell_type": "markdown",
      "metadata": {
        "id": "1XW5qFlKpDOC"
      },
      "source": [
        "### 出力層の設計"
      ]
    },
    {
      "cell_type": "markdown",
      "metadata": {
        "id": "SqGzQDs0pULI"
      },
      "source": [
        "* 回帰の時は恒等関数。分類の時はソフトマックス関数"
      ]
    },
    {
      "cell_type": "code",
      "metadata": {
        "colab": {
          "base_uri": "https://localhost:8080/"
        },
        "id": "xUhVf0gqp-1X",
        "outputId": "83b8afb2-4522-4c68-9f4c-b5b49d812c33"
      },
      "source": [
        "a = np.array([0.3,2.9,4.0])\n",
        "exp_a = np.exp(a)\n",
        "exp_a"
      ],
      "execution_count": 98,
      "outputs": [
        {
          "output_type": "execute_result",
          "data": {
            "text/plain": [
              "array([ 1.34985881, 18.17414537, 54.59815003])"
            ]
          },
          "metadata": {
            "tags": []
          },
          "execution_count": 98
        }
      ]
    },
    {
      "cell_type": "code",
      "metadata": {
        "colab": {
          "base_uri": "https://localhost:8080/"
        },
        "id": "m-RTWENPqQSZ",
        "outputId": "99bdcb35-0b7a-42fb-c5d3-b16d6afd1016"
      },
      "source": [
        "sum_exp_a = np.sum(exp_a)\n",
        "sum_exp_a"
      ],
      "execution_count": 99,
      "outputs": [
        {
          "output_type": "execute_result",
          "data": {
            "text/plain": [
              "74.1221542101633"
            ]
          },
          "metadata": {
            "tags": []
          },
          "execution_count": 99
        }
      ]
    },
    {
      "cell_type": "code",
      "metadata": {
        "colab": {
          "base_uri": "https://localhost:8080/"
        },
        "id": "5a8uj2_1qaWR",
        "outputId": "b304aba0-f8d3-4a88-bfec-12373418c1a4"
      },
      "source": [
        "y = exp_a/sum_exp_a\n",
        "y"
      ],
      "execution_count": 101,
      "outputs": [
        {
          "output_type": "execute_result",
          "data": {
            "text/plain": [
              "array([0.01821127, 0.24519181, 0.73659691])"
            ]
          },
          "metadata": {
            "tags": []
          },
          "execution_count": 101
        }
      ]
    },
    {
      "cell_type": "code",
      "metadata": {
        "id": "wONwD_NIqhkg"
      },
      "source": [
        "#softmax\n",
        "def softmax(a):\n",
        "  exp_a = np.exp(a)\n",
        "  sum_exp_a = np.sum(exp_a)\n",
        "  y = exp_a / sum_exp_a\n",
        "\n",
        "  return y"
      ],
      "execution_count": 102,
      "outputs": []
    },
    {
      "cell_type": "code",
      "metadata": {
        "colab": {
          "base_uri": "https://localhost:8080/"
        },
        "id": "BGnUMTgNrTd7",
        "outputId": "124325d3-a626-4461-d281-94352661786b"
      },
      "source": [
        "#大きすぎるとオーバーフローする。\n",
        "a = np.array([1010,1000,990])\n",
        "exp_a = np.exp(a)/np.sum(exp_a)\n",
        "exp_a"
      ],
      "execution_count": 104,
      "outputs": [
        {
          "output_type": "stream",
          "text": [
            "/usr/local/lib/python3.7/dist-packages/ipykernel_launcher.py:2: RuntimeWarning: overflow encountered in exp\n",
            "  \n",
            "/usr/local/lib/python3.7/dist-packages/ipykernel_launcher.py:2: RuntimeWarning: invalid value encountered in true_divide\n",
            "  \n"
          ],
          "name": "stderr"
        },
        {
          "output_type": "execute_result",
          "data": {
            "text/plain": [
              "array([nan, nan, nan])"
            ]
          },
          "metadata": {
            "tags": []
          },
          "execution_count": 104
        }
      ]
    },
    {
      "cell_type": "code",
      "metadata": {
        "colab": {
          "base_uri": "https://localhost:8080/"
        },
        "id": "g1w_Xg4GrmoK",
        "outputId": "96fef230-5a5c-4142-bcb9-72d3c2b5231e"
      },
      "source": [
        "c = np.max(a)\n",
        "a-c"
      ],
      "execution_count": 105,
      "outputs": [
        {
          "output_type": "execute_result",
          "data": {
            "text/plain": [
              "array([  0, -10, -20])"
            ]
          },
          "metadata": {
            "tags": []
          },
          "execution_count": 105
        }
      ]
    },
    {
      "cell_type": "code",
      "metadata": {
        "colab": {
          "base_uri": "https://localhost:8080/"
        },
        "id": "eyeQYiQUrxC_",
        "outputId": "42b30958-ce99-4ccc-d18c-b9b3542f06b8"
      },
      "source": [
        "np.exp(a-c)/np.sum(np.exp(a-c))"
      ],
      "execution_count": 107,
      "outputs": [
        {
          "output_type": "execute_result",
          "data": {
            "text/plain": [
              "array([9.99954600e-01, 4.53978686e-05, 2.06106005e-09])"
            ]
          },
          "metadata": {
            "tags": []
          },
          "execution_count": 107
        }
      ]
    },
    {
      "cell_type": "code",
      "metadata": {
        "id": "2LQSkpASr-SX"
      },
      "source": [
        "#オーバーフロー対策をするsoftmax\n",
        "def softmax(a):\n",
        "  c = np.max(a)\n",
        "  exp_a = np.exp(a-c)\n",
        "  sum_exp_a = np.sum(exp_a)\n",
        "  y = exp_a / sum_exp_a\n",
        "\n",
        "  return y"
      ],
      "execution_count": 109,
      "outputs": []
    },
    {
      "cell_type": "code",
      "metadata": {
        "colab": {
          "base_uri": "https://localhost:8080/"
        },
        "id": "uqcu4is_sPix",
        "outputId": "0aa24b14-5e53-4e47-d951-6f9177c3d468"
      },
      "source": [
        "a = np.array([0.3,2.9,4.0])\n",
        "y = softmax(a)\n",
        "y"
      ],
      "execution_count": 110,
      "outputs": [
        {
          "output_type": "execute_result",
          "data": {
            "text/plain": [
              "array([0.01821127, 0.24519181, 0.73659691])"
            ]
          },
          "metadata": {
            "tags": []
          },
          "execution_count": 110
        }
      ]
    },
    {
      "cell_type": "code",
      "metadata": {
        "colab": {
          "base_uri": "https://localhost:8080/"
        },
        "id": "3501xuASsXbB",
        "outputId": "9ce19df2-2fd6-444a-ce12-58b40ecfcfd0"
      },
      "source": [
        "sum(y)"
      ],
      "execution_count": 111,
      "outputs": [
        {
          "output_type": "execute_result",
          "data": {
            "text/plain": [
              "1.0"
            ]
          },
          "metadata": {
            "tags": []
          },
          "execution_count": 111
        }
      ]
    },
    {
      "cell_type": "markdown",
      "metadata": {
        "id": "1VuWIn8msv8c"
      },
      "source": [
        "* yは0~1の間。yの総和は1\n",
        "* ゆえにyを確率的に取り扱える"
      ]
    },
    {
      "cell_type": "code",
      "metadata": {
        "id": "Q1kiinJ1saa2"
      },
      "source": [
        ""
      ],
      "execution_count": null,
      "outputs": []
    },
    {
      "cell_type": "markdown",
      "metadata": {
        "id": "ockLUCxUv6GB"
      },
      "source": [
        "### MNIST"
      ]
    },
    {
      "cell_type": "code",
      "metadata": {
        "id": "k8O6RWpKv_6z"
      },
      "source": [
        "!cd /content/drive/MyDrive/deep-learning-from-scratch/ch03\n",
        "import sys , os \n",
        "sys.path.append(os.pardir)"
      ],
      "execution_count": 121,
      "outputs": []
    },
    {
      "cell_type": "code",
      "metadata": {
        "colab": {
          "base_uri": "https://localhost:8080/",
          "height": 130
        },
        "id": "Dwe0tUrOw7qk",
        "outputId": "406b2336-f534-4fea-fce8-7c1a4effb042"
      },
      "source": [
        "python \"/content/drive/MyDrive/deep-learning-from-scratch/dataset/mnist.py\""
      ],
      "execution_count": 127,
      "outputs": [
        {
          "output_type": "error",
          "ename": "SyntaxError",
          "evalue": "ignored",
          "traceback": [
            "\u001b[0;36m  File \u001b[0;32m\"<ipython-input-127-86f7e5b03ea4>\"\u001b[0;36m, line \u001b[0;32m1\u001b[0m\n\u001b[0;31m    python \"/content/drive/MyDrive/deep-learning-from-scratch/dataset/mnist.py\"\u001b[0m\n\u001b[0m                                                                              ^\u001b[0m\n\u001b[0;31mSyntaxError\u001b[0m\u001b[0;31m:\u001b[0m invalid syntax\n"
          ]
        }
      ]
    },
    {
      "cell_type": "code",
      "metadata": {
        "id": "PL6KsKNYybpg"
      },
      "source": [
        "from dataset.mnist import load_mnist"
      ],
      "execution_count": null,
      "outputs": []
    }
  ]
}