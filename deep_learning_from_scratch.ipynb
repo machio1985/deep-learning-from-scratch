{
  "nbformat": 4,
  "nbformat_minor": 0,
  "metadata": {
    "colab": {
      "name": "deep-learning-from-scratch.ipynb",
      "provenance": [],
      "collapsed_sections": [],
      "mount_file_id": "1TCj1NXEQ526Ei3YxKsi_zhcYoPeYVN71",
      "authorship_tag": "ABX9TyPQlD+XYQJ9DvF9sgGpG2Fd",
      "include_colab_link": true
    },
    "kernelspec": {
      "name": "python3",
      "display_name": "Python 3"
    },
    "language_info": {
      "name": "python"
    }
  },
  "cells": [
    {
      "cell_type": "markdown",
      "metadata": {
        "id": "view-in-github",
        "colab_type": "text"
      },
      "source": [
        "<a href=\"https://colab.research.google.com/github/machio1985/deep-learning-from-scratch/blob/master/deep_learning_from_scratch.ipynb\" target=\"_parent\"><img src=\"https://colab.research.google.com/assets/colab-badge.svg\" alt=\"Open In Colab\"/></a>"
      ]
    },
    {
      "cell_type": "markdown",
      "metadata": {
        "id": "LQKF1naDpVx6"
      },
      "source": [
        "# deep-learning-from-scratch"
      ]
    },
    {
      "cell_type": "markdown",
      "metadata": {
        "id": "2rgvX4Krs22X"
      },
      "source": [
        "作成：2021/07/04"
      ]
    },
    {
      "cell_type": "code",
      "metadata": {
        "id": "paCxxsZppsRH"
      },
      "source": [
        "#%cd /content/drive/MyDrive"
      ],
      "execution_count": 1,
      "outputs": []
    },
    {
      "cell_type": "code",
      "metadata": {
        "id": "czYYc2d1p5DW"
      },
      "source": [
        "#!git clone https://github.com/machio1985/deep-learning-from-scratch.git"
      ],
      "execution_count": 2,
      "outputs": []
    },
    {
      "cell_type": "markdown",
      "metadata": {
        "id": "riSPQNodrQDw"
      },
      "source": [
        "## ch01\n"
      ]
    },
    {
      "cell_type": "markdown",
      "metadata": {
        "id": "CIWOdpzruRAg"
      },
      "source": [
        "### P11"
      ]
    },
    {
      "cell_type": "code",
      "metadata": {
        "colab": {
          "base_uri": "https://localhost:8080/"
        },
        "id": "wgEMVqd2rSyj",
        "outputId": "0e54cdbf-5a14-4699-e140-c0ed64d9995f"
      },
      "source": [
        "# coding: utf-8\n",
        "class Man:\n",
        "    \"\"\"サンプルクラス\"\"\"\n",
        "\n",
        "    def __init__(self,name):\n",
        "        self.name = name\n",
        "        print(\"Initilized!\")\n",
        "\n",
        "    def hello(self):\n",
        "        print(\"Hello \" + self.name + \"!\")\n",
        "\n",
        "    def goodbye(self):\n",
        "        print(\"Good-bye \" + self.name + \"!\")\n",
        "\n",
        "m = Man(\"David\")\n",
        "m.hello()\n",
        "m.goodbye()"
      ],
      "execution_count": 3,
      "outputs": [
        {
          "output_type": "stream",
          "text": [
            "Initilized!\n",
            "Hello David!\n",
            "Good-bye David!\n"
          ],
          "name": "stdout"
        }
      ]
    },
    {
      "cell_type": "markdown",
      "metadata": {
        "id": "oS7nlfeyr-uC"
      },
      "source": [
        "* クラスを定義する時にはselfで初期化が必要。\n"
      ]
    },
    {
      "cell_type": "markdown",
      "metadata": {
        "id": "G_UpFoFIuWvz"
      },
      "source": [
        "### P15"
      ]
    },
    {
      "cell_type": "code",
      "metadata": {
        "colab": {
          "base_uri": "https://localhost:8080/"
        },
        "id": "Fp9R_GjWuPXU",
        "outputId": "e373a927-a4fa-42c0-f785-3ad65e480e39"
      },
      "source": [
        "import numpy as np\n",
        "\n",
        "X = np.array([[51,55],[14,19],[0,4]])\n",
        "print(X)"
      ],
      "execution_count": 4,
      "outputs": [
        {
          "output_type": "stream",
          "text": [
            "[[51 55]\n",
            " [14 19]\n",
            " [ 0  4]]\n"
          ],
          "name": "stdout"
        }
      ]
    },
    {
      "cell_type": "code",
      "metadata": {
        "colab": {
          "base_uri": "https://localhost:8080/"
        },
        "id": "G4qROSvCur-n",
        "outputId": "73497431-4130-413a-89a7-2feedd6d4df4"
      },
      "source": [
        "for row in X:\n",
        "  print(row)"
      ],
      "execution_count": 5,
      "outputs": [
        {
          "output_type": "stream",
          "text": [
            "[51 55]\n",
            "[14 19]\n",
            "[0 4]\n"
          ],
          "name": "stdout"
        }
      ]
    },
    {
      "cell_type": "markdown",
      "metadata": {
        "id": "PGp7Z_NNvn2J"
      },
      "source": [
        "### P17"
      ]
    },
    {
      "cell_type": "code",
      "metadata": {
        "id": "vLoUwuhlvps1"
      },
      "source": [
        "import matplotlib.pyplot as plt\n",
        "x = np.arange(0,6,0.1)\n",
        "y = np.sin(x)"
      ],
      "execution_count": 6,
      "outputs": []
    },
    {
      "cell_type": "code",
      "metadata": {
        "colab": {
          "base_uri": "https://localhost:8080/",
          "height": 265
        },
        "id": "jpEdq8CawNIg",
        "outputId": "47008112-d762-4e38-ff89-bdd193ff4ab7"
      },
      "source": [
        "plt.plot(x,y)\n",
        "plt.show()"
      ],
      "execution_count": 7,
      "outputs": [
        {
          "output_type": "display_data",
          "data": {
            "image/png": "[encoded data removed]",
            "text/plain": [
              "<Figure size 432x288 with 1 Axes>"
            ]
          },
          "metadata": {
            "tags": [],
            "needs_background": "light"
          }
        }
      ]
    },
    {
      "cell_type": "markdown",
      "metadata": {
        "id": "2IKEk-ZL2ogs"
      },
      "source": [
        "## ch02\n"
      ]
    },
    {
      "cell_type": "markdown",
      "metadata": {
        "id": "sghVamJ135cm"
      },
      "source": [
        "### P25"
      ]
    },
    {
      "cell_type": "code",
      "metadata": {
        "id": "x2Nr2JYO2w9U"
      },
      "source": [
        "def AND(x1,x2):\n",
        "  w1,w2,theta = 0.5,0.5,0.7\n",
        "  tmp = x1*w1 + x2*w2 \n",
        "  if tmp <= theta :\n",
        "    return 0\n",
        "  elif tmp > theta:\n",
        "    return 1"
      ],
      "execution_count": 8,
      "outputs": []
    },
    {
      "cell_type": "code",
      "metadata": {
        "colab": {
          "base_uri": "https://localhost:8080/"
        },
        "id": "Vl7NN6gS4PaF",
        "outputId": "d3a46918-9f9b-4b74-a23e-af884596a35a"
      },
      "source": [
        "AND(0,0)"
      ],
      "execution_count": 9,
      "outputs": [
        {
          "output_type": "execute_result",
          "data": {
            "text/plain": [
              "0"
            ]
          },
          "metadata": {
            "tags": []
          },
          "execution_count": 9
        }
      ]
    },
    {
      "cell_type": "code",
      "metadata": {
        "colab": {
          "base_uri": "https://localhost:8080/"
        },
        "id": "jdzjOxSX4Vxw",
        "outputId": "32c21b97-f5f2-4967-ec9d-0fab55bad3db"
      },
      "source": [
        "AND(1,0)"
      ],
      "execution_count": 10,
      "outputs": [
        {
          "output_type": "execute_result",
          "data": {
            "text/plain": [
              "0"
            ]
          },
          "metadata": {
            "tags": []
          },
          "execution_count": 10
        }
      ]
    },
    {
      "cell_type": "code",
      "metadata": {
        "colab": {
          "base_uri": "https://localhost:8080/"
        },
        "id": "JqwsT6Ed4XW0",
        "outputId": "9fa6ea89-6642-4395-9066-a356978d32a5"
      },
      "source": [
        "AND(0,1)"
      ],
      "execution_count": 11,
      "outputs": [
        {
          "output_type": "execute_result",
          "data": {
            "text/plain": [
              "0"
            ]
          },
          "metadata": {
            "tags": []
          },
          "execution_count": 11
        }
      ]
    },
    {
      "cell_type": "code",
      "metadata": {
        "colab": {
          "base_uri": "https://localhost:8080/"
        },
        "id": "NmKG2ALW4YV8",
        "outputId": "b2a905f1-b91c-4217-d2a0-a2484ee87b7f"
      },
      "source": [
        "AND(1,1)"
      ],
      "execution_count": 12,
      "outputs": [
        {
          "output_type": "execute_result",
          "data": {
            "text/plain": [
              "1"
            ]
          },
          "metadata": {
            "tags": []
          },
          "execution_count": 12
        }
      ]
    },
    {
      "cell_type": "markdown",
      "metadata": {
        "id": "qsTNzGapOiMh"
      },
      "source": [
        "### 2,3.2 重みとバイアス"
      ]
    },
    {
      "cell_type": "code",
      "metadata": {
        "colab": {
          "base_uri": "https://localhost:8080/"
        },
        "id": "c7iGBJaWOiqT",
        "outputId": "4cd9753e-9ce6-4ef3-a60f-6080a415a1ab"
      },
      "source": [
        "import numpy as np\n",
        "x = np.array([ 0 , 1 ])\n",
        "w = np.array([ 0.5 , 0.5 ])\n",
        "b = -0.7 \n",
        "\n",
        "w*x\n",
        "\n",
        "np.sum(w*x) + b"
      ],
      "execution_count": 13,
      "outputs": [
        {
          "output_type": "execute_result",
          "data": {
            "text/plain": [
              "-0.19999999999999996"
            ]
          },
          "metadata": {
            "tags": []
          },
          "execution_count": 13
        }
      ]
    },
    {
      "cell_type": "markdown",
      "metadata": {
        "id": "OrYT1vv4PMoc"
      },
      "source": [
        "### 2.3.3 実装\n"
      ]
    },
    {
      "cell_type": "code",
      "metadata": {
        "id": "CJZ1IGlEPYkB"
      },
      "source": [
        "def AND(x1,x2):\n",
        "  x = np.array([ x1 , x2 ])\n",
        "  w = np.array([ 0.5 , 0.5 ])\n",
        "  b = -0.7 \n",
        "  tmp = sum(x*w) + b \n",
        "  if tmp <= 0 :\n",
        "    return 0\n",
        "  else: \n",
        "    return 1"
      ],
      "execution_count": 14,
      "outputs": []
    },
    {
      "cell_type": "code",
      "metadata": {
        "id": "PbHCtV1zPqJ9"
      },
      "source": [
        "# NAND は ともに1の時だけ0\n",
        "def NAND(x1,x2):\n",
        "  x = np.array([ x1 , x2 ])\n",
        "  w = np.array([ -0.5 , -0.5 ])\n",
        "  b = 0.7 \n",
        "  tmp = sum(x*w) + b \n",
        "  if tmp <= 0 :\n",
        "    return 0\n",
        "  else :\n",
        "    return 1\n",
        "\n",
        "# ORはどちらかが1なら1\n",
        "def OR(x1,x2):\n",
        "  x = np.array([ x1 , x2 ])\n",
        "  w = np.array([ 0.5 , 0.5 ])\n",
        "  b = -0.2 \n",
        "  tmp = sum(x*w) + b \n",
        "  if tmp <= 0 :\n",
        "    return 0\n",
        "  else :\n",
        "    return 1"
      ],
      "execution_count": 15,
      "outputs": []
    },
    {
      "cell_type": "markdown",
      "metadata": {
        "id": "lF74IsLdPYyO"
      },
      "source": [
        "### XOR \n",
        "* XOR は　線形で分けれない。　　\n",
        "\n",
        "![Screen Shot 2021-07-03 at 21.10.36.png](data:image/png;base64,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)"
      ]
    },
    {
      "cell_type": "markdown",
      "metadata": {
        "id": "26dLW3vqPZfU"
      },
      "source": [
        ""
      ]
    },
    {
      "cell_type": "code",
      "metadata": {
        "id": "Fv_ulhe6T2Ss"
      },
      "source": [
        "def XOR(x1 , x2):\n",
        "  s1 = NAND(x1,x2)\n",
        "  s2 = OR(x1,x2)\n",
        "  y = AND(s1,s2)\n",
        "  return y "
      ],
      "execution_count": 16,
      "outputs": []
    },
    {
      "cell_type": "code",
      "metadata": {
        "colab": {
          "base_uri": "https://localhost:8080/"
        },
        "id": "0R7wU8wbUKUD",
        "outputId": "cc185407-72d7-4e0a-97bc-c67cbefde1fe"
      },
      "source": [
        "XOR(1,0)"
      ],
      "execution_count": 17,
      "outputs": [
        {
          "output_type": "execute_result",
          "data": {
            "text/plain": [
              "1"
            ]
          },
          "metadata": {
            "tags": []
          },
          "execution_count": 17
        }
      ]
    },
    {
      "cell_type": "markdown",
      "metadata": {
        "id": "kHlh0M1AYZuY"
      },
      "source": [
        "##ch03　\n"
      ]
    },
    {
      "cell_type": "markdown",
      "metadata": {
        "id": "K1pk39oVM1EI"
      },
      "source": [
        "### 非線形関数"
      ]
    },
    {
      "cell_type": "code",
      "metadata": {
        "id": "BBcyuekxYa-4"
      },
      "source": [
        "def step_function(x):\n",
        "   y = x > 0\n",
        "   return y.astype(np.int)"
      ],
      "execution_count": 18,
      "outputs": []
    },
    {
      "cell_type": "code",
      "metadata": {
        "colab": {
          "base_uri": "https://localhost:8080/"
        },
        "id": "rfWVq7T-Y7zJ",
        "outputId": "2a44d9d5-3377-46d8-eab8-17507669609b"
      },
      "source": [
        "import numpy as np\n",
        "x = np.array([-1.0,1.0,2.0])\n",
        "x "
      ],
      "execution_count": 19,
      "outputs": [
        {
          "output_type": "execute_result",
          "data": {
            "text/plain": [
              "array([-1.,  1.,  2.])"
            ]
          },
          "metadata": {
            "tags": []
          },
          "execution_count": 19
        }
      ]
    },
    {
      "cell_type": "code",
      "metadata": {
        "colab": {
          "base_uri": "https://localhost:8080/"
        },
        "id": "fFasXyYoaE0u",
        "outputId": "cb7ce704-32d1-4ccf-f460-b3fbb45abd53"
      },
      "source": [
        "y = x > 0 \n",
        "y"
      ],
      "execution_count": 20,
      "outputs": [
        {
          "output_type": "execute_result",
          "data": {
            "text/plain": [
              "array([False,  True,  True])"
            ]
          },
          "metadata": {
            "tags": []
          },
          "execution_count": 20
        }
      ]
    },
    {
      "cell_type": "code",
      "metadata": {
        "colab": {
          "base_uri": "https://localhost:8080/"
        },
        "id": "jo9JxtVDaRyS",
        "outputId": "297c2f12-66f0-4922-a49f-11b56ffe2fc2"
      },
      "source": [
        "y = y.astype(np.int)\n",
        "y"
      ],
      "execution_count": 21,
      "outputs": [
        {
          "output_type": "execute_result",
          "data": {
            "text/plain": [
              "array([0, 1, 1])"
            ]
          },
          "metadata": {
            "tags": []
          },
          "execution_count": 21
        }
      ]
    },
    {
      "cell_type": "markdown",
      "metadata": {
        "id": "-Cx11hKma2Uh"
      },
      "source": [
        "### ステップ関数"
      ]
    },
    {
      "cell_type": "code",
      "metadata": {
        "colab": {
          "base_uri": "https://localhost:8080/",
          "height": 265
        },
        "id": "zq_eEfAoa33L",
        "outputId": "24d7681c-366e-4ea6-adbe-19f8e018faeb"
      },
      "source": [
        "import numpy as np\n",
        "import matplotlib.pyplot as plt\n",
        "\n",
        "def step_function(x):\n",
        "  return np.array(x>0 , dtype = np.int) \n",
        "\n",
        "#arangeは15から5を0.1刻み。\n",
        "x = np.arange(-5.0,5.0,0.1)\n",
        "y = step_function(x)\n",
        "\n",
        "plt.plot(x,y)\n",
        "plt.ylim(-0.1,1.1)\n",
        "plt.show()"
      ],
      "execution_count": 22,
      "outputs": [
        {
          "output_type": "display_data",
          "data": {
            "image/png": "[encoded data removed]",
            "text/plain": [
              "<Figure size 432x288 with 1 Axes>"
            ]
          },
          "metadata": {
            "tags": [],
            "needs_background": "light"
          }
        }
      ]
    },
    {
      "cell_type": "markdown",
      "metadata": {
        "id": "7iVK0Xygb8E_"
      },
      "source": [
        "### シグモイド関数\n"
      ]
    },
    {
      "cell_type": "code",
      "metadata": {
        "id": "nh2bQshTb-fj"
      },
      "source": [
        "def sigmoid(x):\n",
        "  return 1/(1+np.exp(-x))"
      ],
      "execution_count": 23,
      "outputs": []
    },
    {
      "cell_type": "code",
      "metadata": {
        "colab": {
          "base_uri": "https://localhost:8080/"
        },
        "id": "LXWYHGyrcEtk",
        "outputId": "732c52f5-574c-4912-ac1f-2a3f06b39dbe"
      },
      "source": [
        "x = np.array([-1,1,2])\n",
        "sigmoid(x)"
      ],
      "execution_count": 24,
      "outputs": [
        {
          "output_type": "execute_result",
          "data": {
            "text/plain": [
              "array([0.26894142, 0.73105858, 0.88079708])"
            ]
          },
          "metadata": {
            "tags": []
          },
          "execution_count": 24
        }
      ]
    },
    {
      "cell_type": "code",
      "metadata": {
        "colab": {
          "base_uri": "https://localhost:8080/",
          "height": 265
        },
        "id": "vKrissVccM8A",
        "outputId": "b7862f40-695e-4370-dd41-886915be20bf"
      },
      "source": [
        "x = np.arange(-5,5,0.1)\n",
        "y = sigmoid(x)\n",
        "plt.plot(x,y)\n",
        "plt.ylim(-0.1,1.1)\n",
        "plt.show()"
      ],
      "execution_count": 25,
      "outputs": [
        {
          "output_type": "display_data",
          "data": {
            "image/png": "[encoded data removed]",
            "text/plain": [
              "<Figure size 432x288 with 1 Axes>"
            ]
          },
          "metadata": {
            "tags": [],
            "needs_background": "light"
          }
        }
      ]
    },
    {
      "cell_type": "markdown",
      "metadata": {
        "id": "SJaqbOw4ey7h"
      },
      "source": [
        "### ニューラルネットワークの行列の積\n"
      ]
    },
    {
      "cell_type": "code",
      "metadata": {
        "colab": {
          "base_uri": "https://localhost:8080/"
        },
        "id": "_6aCl2VGe7rm",
        "outputId": "30aa6eed-25b9-4928-f716-4491fc095ab2"
      },
      "source": [
        "X = np.array([1,2])\n",
        "X.shape"
      ],
      "execution_count": 26,
      "outputs": [
        {
          "output_type": "execute_result",
          "data": {
            "text/plain": [
              "(2,)"
            ]
          },
          "metadata": {
            "tags": []
          },
          "execution_count": 26
        }
      ]
    },
    {
      "cell_type": "code",
      "metadata": {
        "colab": {
          "base_uri": "https://localhost:8080/"
        },
        "id": "vr6X-tMZe_pI",
        "outputId": "3ae42976-7cc3-4208-ec30-18b4ecdccefc"
      },
      "source": [
        "W = np.array([[1,3,5],[2,4,6]])\n",
        "print(W)"
      ],
      "execution_count": 27,
      "outputs": [
        {
          "output_type": "stream",
          "text": [
            "[[1 3 5]\n",
            " [2 4 6]]\n"
          ],
          "name": "stdout"
        }
      ]
    },
    {
      "cell_type": "code",
      "metadata": {
        "colab": {
          "base_uri": "https://localhost:8080/"
        },
        "id": "nwYQoasTfF4G",
        "outputId": "480217a1-9a44-44dc-8afb-3eff7e31b147"
      },
      "source": [
        "Y = np.dot(X,W)\n",
        "print(Y)"
      ],
      "execution_count": 28,
      "outputs": [
        {
          "output_type": "stream",
          "text": [
            "[ 5 11 17]\n"
          ],
          "name": "stdout"
        }
      ]
    },
    {
      "cell_type": "markdown",
      "metadata": {
        "id": "RruKyQ_Og-Fz"
      },
      "source": [
        "###ニューラルネットワークの実装"
      ]
    },
    {
      "cell_type": "code",
      "metadata": {
        "colab": {
          "base_uri": "https://localhost:8080/"
        },
        "id": "xYo6QZ56hCI8",
        "outputId": "5e190954-ffea-4f4f-d14b-7b038bb8accd"
      },
      "source": [
        "#１層目\n",
        "X = np.array([1,0.5])\n",
        "W1 = np.array([[0.1,0.3,0.5],[0.2,0.4,0.6]])\n",
        "B1 = np.array([0.1,0.2,0.3])\n",
        "\n",
        "#dotは行列の積\n",
        "A1 = np.dot(X,W1) + B1\n",
        "A1"
      ],
      "execution_count": 29,
      "outputs": [
        {
          "output_type": "execute_result",
          "data": {
            "text/plain": [
              "array([0.3, 0.7, 1.1])"
            ]
          },
          "metadata": {
            "tags": []
          },
          "execution_count": 29
        }
      ]
    },
    {
      "cell_type": "code",
      "metadata": {
        "colab": {
          "base_uri": "https://localhost:8080/"
        },
        "id": "rwygG6fsiXdo",
        "outputId": "e40d0ded-3cd4-4d65-cdd5-24763a83fb00"
      },
      "source": [
        "Z1 = sigmoid(A1)\n",
        "Z1"
      ],
      "execution_count": 30,
      "outputs": [
        {
          "output_type": "execute_result",
          "data": {
            "text/plain": [
              "array([0.57444252, 0.66818777, 0.75026011])"
            ]
          },
          "metadata": {
            "tags": []
          },
          "execution_count": 30
        }
      ]
    },
    {
      "cell_type": "code",
      "metadata": {
        "colab": {
          "base_uri": "https://localhost:8080/"
        },
        "id": "5xoQVXmIihOd",
        "outputId": "53f57bad-d9da-4217-cf7b-651ac0759777"
      },
      "source": [
        "#２層目\n",
        "W2 = np.array([[0.1,0.4],[0.2,0.5],[0.3,0.6]])\n",
        "B2 = np.array([0.1,0.2])\n",
        "A2 = np.dot(Z1,W2) + B2\n",
        "Z2 = sigmoid(A2)\n",
        "Z2"
      ],
      "execution_count": 31,
      "outputs": [
        {
          "output_type": "execute_result",
          "data": {
            "text/plain": [
              "array([0.62624937, 0.7710107 ])"
            ]
          },
          "metadata": {
            "tags": []
          },
          "execution_count": 31
        }
      ]
    },
    {
      "cell_type": "code",
      "metadata": {
        "colab": {
          "base_uri": "https://localhost:8080/"
        },
        "id": "6IQoba0WjZMi",
        "outputId": "4dc4355d-b007-4cca-9007-6abbdfd186be"
      },
      "source": [
        "#出力層\n",
        "\n",
        "#これはそのまま出す恒等関数\n",
        "def identity_function(x):\n",
        "  return x \n",
        "\n",
        "W3 = np.array([[0.1,0.3],[0.2,0.4]])\n",
        "B3 = np.array([0.1,0.2])\n",
        "A3 = np.dot(Z2,W3) + B3\n",
        "Z2 = sigmoid(A3)\n",
        "Y = identity_function(A3)\n",
        "Y"
      ],
      "execution_count": 32,
      "outputs": [
        {
          "output_type": "execute_result",
          "data": {
            "text/plain": [
              "array([0.31682708, 0.69627909])"
            ]
          },
          "metadata": {
            "tags": []
          },
          "execution_count": 32
        }
      ]
    },
    {
      "cell_type": "markdown",
      "metadata": {
        "id": "AJDQmWtQknCJ"
      },
      "source": [
        "### 実装まとめ\n"
      ]
    },
    {
      "cell_type": "code",
      "metadata": {
        "id": "lTWSAzb1kpAD"
      },
      "source": [
        "def init_network():\n",
        "  network = {}\n",
        "  network['W1'] = np.array([[0.1,0.3,0.5],[0.2,0.4,0.6]])\n",
        "  network['B1'] = np.array([0.1,0.2,0.3])\n",
        "\n",
        "  network['W2'] = np.array([[0.1,0.4],[0.2,0.5],[0.3,0.6]])\n",
        "  network['B2'] = np.array([0.1,0.2])\n",
        "  network['W3'] = np.array([[0.1,0.3],[0.2,0.4]])\n",
        "  network['B3'] = np.array([0.1,0.2])\n",
        "\n",
        "  return network"
      ],
      "execution_count": 33,
      "outputs": []
    },
    {
      "cell_type": "code",
      "metadata": {
        "id": "IJI3QZIBlrjh"
      },
      "source": [
        "def forword(network,x):\n",
        "  W1,W2,W3 = network['W1'] , network['W2'] , network['W3']\n",
        "  B1,B2,B3 = network['B1'] , network['B2'] , network['B3']\n",
        "\n",
        "  a1 = np.dot(x , W1) + B1 \n",
        "  z1 = sigmoid(a1)\n",
        "  a2 = np.dot(z1 , W2) + B2\n",
        "  z2 = sigmoid(a2)\n",
        "  a3 = np.dot(z2,W3) + B3 \n",
        "  y = identity_function(a3)\n",
        "\n",
        "  return y"
      ],
      "execution_count": 34,
      "outputs": []
    },
    {
      "cell_type": "code",
      "metadata": {
        "colab": {
          "base_uri": "https://localhost:8080/"
        },
        "id": "fuM_1gdQmrsM",
        "outputId": "c0d54263-5e62-4edc-a6a8-71686cbe9d54"
      },
      "source": [
        "network = init_network()\n",
        "x = np.array([1.0,0.5])\n",
        "y = forword(network,x)\n",
        "print(y)"
      ],
      "execution_count": 35,
      "outputs": [
        {
          "output_type": "stream",
          "text": [
            "[0.31682708 0.69627909]\n"
          ],
          "name": "stdout"
        }
      ]
    },
    {
      "cell_type": "markdown",
      "metadata": {
        "id": "1XW5qFlKpDOC"
      },
      "source": [
        "### 出力層の設計"
      ]
    },
    {
      "cell_type": "markdown",
      "metadata": {
        "id": "SqGzQDs0pULI"
      },
      "source": [
        "* 回帰の時は恒等関数。分類の時はソフトマックス関数"
      ]
    },
    {
      "cell_type": "code",
      "metadata": {
        "colab": {
          "base_uri": "https://localhost:8080/"
        },
        "id": "xUhVf0gqp-1X",
        "outputId": "623a5ca0-dcee-4073-ac74-24e54ab593cd"
      },
      "source": [
        "a = np.array([0.3,2.9,4.0])\n",
        "exp_a = np.exp(a)\n",
        "exp_a"
      ],
      "execution_count": 36,
      "outputs": [
        {
          "output_type": "execute_result",
          "data": {
            "text/plain": [
              "array([ 1.34985881, 18.17414537, 54.59815003])"
            ]
          },
          "metadata": {
            "tags": []
          },
          "execution_count": 36
        }
      ]
    },
    {
      "cell_type": "code",
      "metadata": {
        "colab": {
          "base_uri": "https://localhost:8080/"
        },
        "id": "m-RTWENPqQSZ",
        "outputId": "b7defffc-1ccb-4c73-f22c-a229adb7725a"
      },
      "source": [
        "sum_exp_a = np.sum(exp_a)\n",
        "sum_exp_a"
      ],
      "execution_count": 37,
      "outputs": [
        {
          "output_type": "execute_result",
          "data": {
            "text/plain": [
              "74.1221542101633"
            ]
          },
          "metadata": {
            "tags": []
          },
          "execution_count": 37
        }
      ]
    },
    {
      "cell_type": "code",
      "metadata": {
        "colab": {
          "base_uri": "https://localhost:8080/"
        },
        "id": "5a8uj2_1qaWR",
        "outputId": "9fb2c32e-9f24-47eb-da7e-3c5658d6b880"
      },
      "source": [
        "y = exp_a/sum_exp_a\n",
        "y"
      ],
      "execution_count": 38,
      "outputs": [
        {
          "output_type": "execute_result",
          "data": {
            "text/plain": [
              "array([0.01821127, 0.24519181, 0.73659691])"
            ]
          },
          "metadata": {
            "tags": []
          },
          "execution_count": 38
        }
      ]
    },
    {
      "cell_type": "code",
      "metadata": {
        "id": "wONwD_NIqhkg"
      },
      "source": [
        "#softmax\n",
        "def softmax(a):\n",
        "  exp_a = np.exp(a)\n",
        "  sum_exp_a = np.sum(exp_a)\n",
        "  y = exp_a / sum_exp_a\n",
        "\n",
        "  return y"
      ],
      "execution_count": 39,
      "outputs": []
    },
    {
      "cell_type": "code",
      "metadata": {
        "colab": {
          "base_uri": "https://localhost:8080/"
        },
        "id": "BGnUMTgNrTd7",
        "outputId": "6259e799-e3c6-4704-dd26-b6c2e43f4139"
      },
      "source": [
        "#大きすぎるとオーバーフローする。\n",
        "a = np.array([1010,1000,990])\n",
        "exp_a = np.exp(a)/np.sum(exp_a)\n",
        "exp_a"
      ],
      "execution_count": 40,
      "outputs": [
        {
          "output_type": "stream",
          "text": [
            "/usr/local/lib/python3.7/dist-packages/ipykernel_launcher.py:3: RuntimeWarning: overflow encountered in exp\n",
            "  This is separate from the ipykernel package so we can avoid doing imports until\n"
          ],
          "name": "stderr"
        },
        {
          "output_type": "execute_result",
          "data": {
            "text/plain": [
              "array([inf, inf, inf])"
            ]
          },
          "metadata": {
            "tags": []
          },
          "execution_count": 40
        }
      ]
    },
    {
      "cell_type": "code",
      "metadata": {
        "colab": {
          "base_uri": "https://localhost:8080/"
        },
        "id": "g1w_Xg4GrmoK",
        "outputId": "77b82d55-5613-4e5a-f39a-9780410cdffb"
      },
      "source": [
        "c = np.max(a)\n",
        "a-c"
      ],
      "execution_count": 41,
      "outputs": [
        {
          "output_type": "execute_result",
          "data": {
            "text/plain": [
              "array([  0, -10, -20])"
            ]
          },
          "metadata": {
            "tags": []
          },
          "execution_count": 41
        }
      ]
    },
    {
      "cell_type": "code",
      "metadata": {
        "colab": {
          "base_uri": "https://localhost:8080/"
        },
        "id": "eyeQYiQUrxC_",
        "outputId": "fc3b7209-622f-40a6-d601-5b658ba5f899"
      },
      "source": [
        "np.exp(a-c)/np.sum(np.exp(a-c))"
      ],
      "execution_count": 42,
      "outputs": [
        {
          "output_type": "execute_result",
          "data": {
            "text/plain": [
              "array([9.99954600e-01, 4.53978686e-05, 2.06106005e-09])"
            ]
          },
          "metadata": {
            "tags": []
          },
          "execution_count": 42
        }
      ]
    },
    {
      "cell_type": "code",
      "metadata": {
        "id": "2LQSkpASr-SX"
      },
      "source": [
        "#オーバーフロー対策をするsoftmax\n",
        "def softmax(a):\n",
        "  c = np.max(a)\n",
        "  exp_a = np.exp(a-c)\n",
        "  sum_exp_a = np.sum(exp_a)\n",
        "  y = exp_a / sum_exp_a\n",
        "\n",
        "  return y"
      ],
      "execution_count": 43,
      "outputs": []
    },
    {
      "cell_type": "code",
      "metadata": {
        "colab": {
          "base_uri": "https://localhost:8080/"
        },
        "id": "uqcu4is_sPix",
        "outputId": "45eebbf3-2c8b-4243-b202-33d1ccb1b9a7"
      },
      "source": [
        "a = np.array([0.3,2.9,4.0])\n",
        "y = softmax(a)\n",
        "y"
      ],
      "execution_count": 44,
      "outputs": [
        {
          "output_type": "execute_result",
          "data": {
            "text/plain": [
              "array([0.01821127, 0.24519181, 0.73659691])"
            ]
          },
          "metadata": {
            "tags": []
          },
          "execution_count": 44
        }
      ]
    },
    {
      "cell_type": "code",
      "metadata": {
        "colab": {
          "base_uri": "https://localhost:8080/"
        },
        "id": "3501xuASsXbB",
        "outputId": "9d60b504-c76b-486a-dd61-26b0f3eaa70f"
      },
      "source": [
        "sum(y)"
      ],
      "execution_count": 45,
      "outputs": [
        {
          "output_type": "execute_result",
          "data": {
            "text/plain": [
              "1.0"
            ]
          },
          "metadata": {
            "tags": []
          },
          "execution_count": 45
        }
      ]
    },
    {
      "cell_type": "markdown",
      "metadata": {
        "id": "1VuWIn8msv8c"
      },
      "source": [
        "* yは0~1の間。yの総和は1\n",
        "* ゆえにyを確率的に取り扱える"
      ]
    },
    {
      "cell_type": "markdown",
      "metadata": {
        "id": "ockLUCxUv6GB"
      },
      "source": [
        "### MNIST"
      ]
    },
    {
      "cell_type": "code",
      "metadata": {
        "id": "PL6KsKNYybpg"
      },
      "source": [
        "#!python /content/drive/MyDrive/deep-learning-from-scratch/dataset/mnist.py"
      ],
      "execution_count": 46,
      "outputs": []
    },
    {
      "cell_type": "code",
      "metadata": {
        "id": "AQRX2HI2MBJR"
      },
      "source": [
        "import os , pickle , sys"
      ],
      "execution_count": 47,
      "outputs": []
    },
    {
      "cell_type": "code",
      "metadata": {
        "colab": {
          "base_uri": "https://localhost:8080/",
          "height": 52
        },
        "id": "LDQzbkoI5ZC_",
        "outputId": "c34eb772-f68e-4030-ef92-2791746fa51a"
      },
      "source": [
        "%cd /content/drive/MyDrive/deep-learning-from-scratch\n",
        "os.getcwd()"
      ],
      "execution_count": 48,
      "outputs": [
        {
          "output_type": "stream",
          "text": [
            "/content/drive/MyDrive/deep-learning-from-scratch\n"
          ],
          "name": "stdout"
        },
        {
          "output_type": "execute_result",
          "data": {
            "application/vnd.google.colaboratory.intrinsic+json": {
              "type": "string"
            },
            "text/plain": [
              "'/content/drive/MyDrive/deep-learning-from-scratch'"
            ]
          },
          "metadata": {
            "tags": []
          },
          "execution_count": 48
        }
      ]
    },
    {
      "cell_type": "code",
      "metadata": {
        "id": "ZWmgWkFZ0jKh"
      },
      "source": [
        "sys.path.append(os.pardir)\n",
        "from dataset.mnist import load_mnist"
      ],
      "execution_count": 49,
      "outputs": []
    },
    {
      "cell_type": "code",
      "metadata": {
        "id": "dumgiDck2ZOy"
      },
      "source": [
        "(x_train,t_train),(x_test,t_test) = load_mnist(flatten = True ,normalize = False)"
      ],
      "execution_count": 50,
      "outputs": []
    },
    {
      "cell_type": "code",
      "metadata": {
        "colab": {
          "base_uri": "https://localhost:8080/"
        },
        "id": "YXq9XWbx0oZC",
        "outputId": "5d7e4b2d-237b-4547-b569-0d5522a2c723"
      },
      "source": [
        "x_train.shape,t_train.shape,x_test.shape,t_test.shape"
      ],
      "execution_count": 51,
      "outputs": [
        {
          "output_type": "execute_result",
          "data": {
            "text/plain": [
              "((60000, 784), (60000,), (10000, 784), (10000,))"
            ]
          },
          "metadata": {
            "tags": []
          },
          "execution_count": 51
        }
      ]
    },
    {
      "cell_type": "code",
      "metadata": {
        "colab": {
          "base_uri": "https://localhost:8080/"
        },
        "id": "seNKR2Xe9q-8",
        "outputId": "c1a4e2f6-4e20-4a91-88fb-fc4e6ca457fc"
      },
      "source": [
        "from PIL import Image\n",
        "\n",
        "def img_show(img):\n",
        "    pil_img = Image.fromarray(np.uint8(img))\n",
        "    pil_img.show()\n",
        "img = x_train[0]\n",
        "label = t_train[0]\n",
        "print(label)  # 5\n",
        "\n",
        "print(img.shape)  # (784,)\n",
        "img = img.reshape(28, 28)  # 形状を元の画像サイズに変形\n",
        "print(img.shape)  # (28, 28)"
      ],
      "execution_count": 52,
      "outputs": [
        {
          "output_type": "stream",
          "text": [
            "5\n",
            "(784,)\n",
            "(28, 28)\n"
          ],
          "name": "stdout"
        }
      ]
    },
    {
      "cell_type": "code",
      "metadata": {
        "id": "x6VcDV5N9yuw"
      },
      "source": [
        "img_show(img)"
      ],
      "execution_count": 53,
      "outputs": []
    },
    {
      "cell_type": "code",
      "metadata": {
        "colab": {
          "base_uri": "https://localhost:8080/"
        },
        "id": "W6ZhOqkx-p9u",
        "outputId": "c1daaede-031d-4731-d00c-926df540d1f1"
      },
      "source": [
        "# neuralnet_mnist.py\n",
        "def get_data():\n",
        "    (x_train, t_train), (x_test, t_test) = load_mnist(normalize=True, flatten=True, one_hot_label=False)\n",
        "    return x_test, t_test\n",
        "\n",
        "def init_network():\n",
        "    with open(\"ch03/sample_weight.pkl\", 'rb') as f:\n",
        "        network = pickle.load(f)\n",
        "    return network\n",
        "\n",
        "def predict(network, x):\n",
        "    W1, W2, W3 = network['W1'], network['W2'], network['W3']\n",
        "    b1, b2, b3 = network['b1'], network['b2'], network['b3']\n",
        "\n",
        "    a1 = np.dot(x, W1) + b1\n",
        "    z1 = sigmoid(a1)\n",
        "    a2 = np.dot(z1, W2) + b2\n",
        "    z2 = sigmoid(a2)\n",
        "    a3 = np.dot(z2, W3) + b3\n",
        "    y = softmax(a3)\n",
        "\n",
        "    return y\n",
        "\n",
        "x, t = get_data()\n",
        "network = init_network()\n",
        "accuracy_cnt = 0\n",
        "for i in range(len(x)):\n",
        "    y = predict(network, x[i])\n",
        "    p= np.argmax(y) # 最も確率の高い要素のインデックスを取得\n",
        "    if p == t[i]:\n",
        "        accuracy_cnt += 1 #累積和\n",
        "\n",
        "print(\"Accuracy:\" + str(float(accuracy_cnt) / len(x)))"
      ],
      "execution_count": 54,
      "outputs": [
        {
          "output_type": "stream",
          "text": [
            "Accuracy:0.9352\n"
          ],
          "name": "stdout"
        }
      ]
    },
    {
      "cell_type": "code",
      "metadata": {
        "colab": {
          "base_uri": "https://localhost:8080/"
        },
        "id": "VH6Q79_jCRSX",
        "outputId": "f3ac99f6-6597-4b39-fe48-22314639db8f"
      },
      "source": [
        "x,_ = get_data()\n",
        "network = init_network()\n",
        "W1,W2,W3 = network['W1'] , network['W2'] , network['W3']\n",
        "\n",
        "x.shape , x[0].shape , W1.shape , W2.shape , W3.shape"
      ],
      "execution_count": 55,
      "outputs": [
        {
          "output_type": "execute_result",
          "data": {
            "text/plain": [
              "((10000, 784), (784,), (784, 50), (50, 100), (100, 10))"
            ]
          },
          "metadata": {
            "tags": []
          },
          "execution_count": 55
        }
      ]
    },
    {
      "cell_type": "code",
      "metadata": {
        "colab": {
          "base_uri": "https://localhost:8080/"
        },
        "id": "tX1RS4QaDpoD",
        "outputId": "3ef70290-3e3f-4a87-fb01-6e635cb5c5a6"
      },
      "source": [
        "# バッチ処理 : 入力データをある程度のまとめ理で推論処理して、計算を早くする。\n",
        "x, t = get_data()\n",
        "network = init_network()\n",
        "\n",
        "batch_size = 100\n",
        "accuracy_cnt = 0\n",
        "\n",
        "for i in range(0, len(x) , batch_size):\n",
        "    x_batch = x[i:i+batch_size]\n",
        "    y_batch = predict(network, x_batch)\n",
        "    p= np.argmax(y_batch,axis=1) # 最も確率の高い要素のインデックスを取得\n",
        "    accuracy_cnt += np.sum(p == t[i:i+batch_size]) #累積和\n",
        "\n",
        "print(\"Accuracy:\" + str(float(accuracy_cnt) / len(x) ))"
      ],
      "execution_count": 56,
      "outputs": [
        {
          "output_type": "stream",
          "text": [
            "Accuracy:0.9352\n"
          ],
          "name": "stdout"
        }
      ]
    },
    {
      "cell_type": "markdown",
      "metadata": {
        "id": "ACoBgFaKMp-y"
      },
      "source": [
        "## ch04　学習\n"
      ]
    },
    {
      "cell_type": "markdown",
      "metadata": {
        "id": "xkYpPSuINcua"
      },
      "source": [
        "* 学習とは重みパラメーターの値を獲得すること。\n",
        "* コンピュータービジョンで有名な特徴量  \n",
        " * SIFT\n",
        " * SURF\n",
        " * HOG  \n",
        "   * これらは機械学習にかける"
      ]
    },
    {
      "cell_type": "markdown",
      "metadata": {
        "id": "d7B4c4FXUjq9"
      },
      "source": [
        "### 損失関数\n"
      ]
    },
    {
      "cell_type": "code",
      "metadata": {
        "id": "dDZ8ByCTUnD_"
      },
      "source": [
        "#二乗和誤差\n",
        "def sum_squared_error(y , t):\n",
        "  return 0.5*np.sum((y-t)**2)"
      ],
      "execution_count": 57,
      "outputs": []
    },
    {
      "cell_type": "code",
      "metadata": {
        "id": "D-hAkJHeVoEB"
      },
      "source": [
        "#交差エントロピー誤差\n",
        "def cross_entropy_error(y , t): \n",
        "    delta = 1e-7\n",
        "    return -np.sup(t * np.log(y + delta))"
      ],
      "execution_count": 58,
      "outputs": []
    },
    {
      "cell_type": "markdown",
      "metadata": {
        "id": "NQR9MdqSWgNZ"
      },
      "source": [
        "### ミニバッチ学習"
      ]
    },
    {
      "cell_type": "markdown",
      "metadata": {
        "id": "UnzdHMu2XDnk"
      },
      "source": [
        "* 全てのデータで損失関数を計算するのは負荷が大きい。\n",
        "* そのため、一部(ミニバッチ)を取り出し、それごとに学習を行う。\n"
      ]
    },
    {
      "cell_type": "code",
      "metadata": {
        "colab": {
          "base_uri": "https://localhost:8080/"
        },
        "id": "Pt8zhnC2Wh9m",
        "outputId": "4443ec06-4eb1-4d8b-b6d7-f5ca7b57cef4"
      },
      "source": [
        "%cd /content/drive/MyDrive/deep-learning-from-scratch\n",
        "import sys , os\n",
        "sys.path.append(os.pardir)\n",
        "import numpy as np\n",
        "from dataset.mnist import load_mnist"
      ],
      "execution_count": 59,
      "outputs": [
        {
          "output_type": "stream",
          "text": [
            "/content/drive/MyDrive/deep-learning-from-scratch\n"
          ],
          "name": "stdout"
        }
      ]
    },
    {
      "cell_type": "code",
      "metadata": {
        "id": "W1B0yDWdX9Mb"
      },
      "source": [
        "(x_train,t_train),(x_test,t_test) = load_mnist(flatten = True ,normalize = False)"
      ],
      "execution_count": 60,
      "outputs": []
    },
    {
      "cell_type": "code",
      "metadata": {
        "colab": {
          "base_uri": "https://localhost:8080/"
        },
        "id": "uZcCf-q0YENW",
        "outputId": "daf794ae-f3ae-4aa9-edf5-ecb1fa59c07c"
      },
      "source": [
        "x_train.shape , t_train.shape"
      ],
      "execution_count": 61,
      "outputs": [
        {
          "output_type": "execute_result",
          "data": {
            "text/plain": [
              "((60000, 784), (60000,))"
            ]
          },
          "metadata": {
            "tags": []
          },
          "execution_count": 61
        }
      ]
    },
    {
      "cell_type": "code",
      "metadata": {
        "id": "Cmm-DULQYJKq"
      },
      "source": [
        "# ランダムに取り出す。\n",
        "train_size = x_train.shape[0] # 0列目\n",
        "batch_size = 10\n",
        "batch_mask = np.random.choice(train_size , batch_size)\n",
        "x_batch = x_train[batch_mask]\n",
        "t_batch = t_train[batch_mask]"
      ],
      "execution_count": 62,
      "outputs": []
    },
    {
      "cell_type": "markdown",
      "metadata": {
        "id": "QduW6SFcY2qX"
      },
      "source": [
        "### 交差エントロピー誤差の実装：ミニバッチ"
      ]
    },
    {
      "cell_type": "code",
      "metadata": {
        "id": "HfVq5ZckY8Vx"
      },
      "source": [
        "#交差エントロピー誤差:データが一つの場合\n",
        "def cross_entropy_error(y , t): \n",
        "  if y.ndim == 1:\n",
        "    t = t.reshape(1,t.size)\n",
        "    y = y.reshape(1,y.size)\n",
        "\n",
        "    batch_size = y.shape[0]\n",
        "\n",
        "    return -np.sup(t * np.log(y + 1e-7)/batch_size)"
      ],
      "execution_count": 63,
      "outputs": []
    },
    {
      "cell_type": "code",
      "metadata": {
        "id": "IMg7Da3Laesd"
      },
      "source": [
        "#交差エントロピー誤差:教師データがラベルの時\n",
        "def cross_entropy_error(y , t): \n",
        "  if y.ndim == 1:\n",
        "    t = t.reshape(1,t.size)\n",
        "    y = y.reshape(1,y.size)\n",
        "\n",
        "    batch_size = y.shape[0]\n",
        "\n",
        "    return -np.sup(np.log(y[np.arange(batch_size),t] + 1e-7))/batch_size"
      ],
      "execution_count": 64,
      "outputs": []
    },
    {
      "cell_type": "code",
      "metadata": {
        "colab": {
          "base_uri": "https://localhost:8080/"
        },
        "id": "fZ94LsodbbIN",
        "outputId": "bc86fd8a-aece-4174-8a10-45d1aa8ad08f"
      },
      "source": [
        "# 0 ~ 5-1\n",
        "np.arange(5) "
      ],
      "execution_count": 65,
      "outputs": [
        {
          "output_type": "execute_result",
          "data": {
            "text/plain": [
              "array([0, 1, 2, 3, 4])"
            ]
          },
          "metadata": {
            "tags": []
          },
          "execution_count": 65
        }
      ]
    },
    {
      "cell_type": "markdown",
      "metadata": {
        "id": "7nnDX5q-f5Z-"
      },
      "source": [
        "## 数値微分"
      ]
    },
    {
      "cell_type": "code",
      "metadata": {
        "id": "fa9cMX-yf6te"
      },
      "source": [
        "def numerical_diff(f,x):\n",
        "  h = 1e-4\n",
        "  return (f(x+h) - f(x-h))/(2*h)"
      ],
      "execution_count": 66,
      "outputs": []
    },
    {
      "cell_type": "markdown",
      "metadata": {
        "id": "CKzh_jD1gZkQ"
      },
      "source": [
        "数値微分の例\n"
      ]
    },
    {
      "cell_type": "code",
      "metadata": {
        "id": "s62G_q0kgbYN"
      },
      "source": [
        "def function_1(x):\n",
        "  return 0.01*x**2 + 0.1*x"
      ],
      "execution_count": 67,
      "outputs": []
    },
    {
      "cell_type": "code",
      "metadata": {
        "colab": {
          "base_uri": "https://localhost:8080/",
          "height": 265
        },
        "id": "0sD9EkROgiZV",
        "outputId": "b5533319-da59-4eb9-da02-8ea14c6a4455"
      },
      "source": [
        "import numpy as np\n",
        "import matplotlib.pyplot as plt\n",
        "\n",
        "x = np.arange(0 , 20 , 0.1)\n",
        "y = function_1(x)\n",
        "plt.plot(x,y)\n",
        "plt.show()"
      ],
      "execution_count": 68,
      "outputs": [
        {
          "output_type": "display_data",
          "data": {
            "image/png": "[encoded data removed]",
            "text/plain": [
              "<Figure size 432x288 with 1 Axes>"
            ]
          },
          "metadata": {
            "tags": [],
            "needs_background": "light"
          }
        }
      ]
    },
    {
      "cell_type": "markdown",
      "metadata": {
        "id": "3FnPX1OgiLw4"
      },
      "source": [
        "### 偏微分"
      ]
    },
    {
      "cell_type": "code",
      "metadata": {
        "id": "CHSat33IiK9u"
      },
      "source": [
        "def function_2(x):\n",
        "  return np.sum(x ** 2)"
      ],
      "execution_count": 69,
      "outputs": []
    },
    {
      "cell_type": "code",
      "metadata": {
        "id": "Gh12X_CTiV6T"
      },
      "source": [
        "def function_tmp1(x0):\n",
        "  return x0*x0 + 4.0**2.0"
      ],
      "execution_count": 70,
      "outputs": []
    },
    {
      "cell_type": "code",
      "metadata": {
        "colab": {
          "base_uri": "https://localhost:8080/"
        },
        "id": "fodtuuJziwOG",
        "outputId": "0070775d-e7ec-47c9-d512-7f367cb7dc0e"
      },
      "source": [
        "numerical_diff(function_tmp1,3)"
      ],
      "execution_count": 71,
      "outputs": [
        {
          "output_type": "execute_result",
          "data": {
            "text/plain": [
              "6.00000000000378"
            ]
          },
          "metadata": {
            "tags": []
          },
          "execution_count": 71
        }
      ]
    },
    {
      "cell_type": "code",
      "metadata": {
        "id": "KSZXOPtTi2qF"
      },
      "source": [
        "def function_tmp2(x1):\n",
        "  return 3**2 + x1*x1"
      ],
      "execution_count": 72,
      "outputs": []
    },
    {
      "cell_type": "code",
      "metadata": {
        "colab": {
          "base_uri": "https://localhost:8080/"
        },
        "id": "OrzqoHRqjmfn",
        "outputId": "b43d47fa-678a-4a03-9dfe-a31dc958067a"
      },
      "source": [
        "numerical_diff(function_tmp2,4)"
      ],
      "execution_count": 73,
      "outputs": [
        {
          "output_type": "execute_result",
          "data": {
            "text/plain": [
              "7.999999999999119"
            ]
          },
          "metadata": {
            "tags": []
          },
          "execution_count": 73
        }
      ]
    },
    {
      "cell_type": "markdown",
      "metadata": {
        "id": "kz7jbU4LkdUZ"
      },
      "source": [
        "### 勾配"
      ]
    },
    {
      "cell_type": "code",
      "metadata": {
        "id": "uciMzAxbkgJ4"
      },
      "source": [
        "def numerical_gradient(f,x):\n",
        "  h = 1e-4\n",
        "  grad = np.zeros_like(x)\n",
        "\n",
        "  for idx in range(x.size):\n",
        "    tmp_val = x[idx]\n",
        "    \n",
        "    # f(x+h)\n",
        "    x[idx] = tmp_val + h\n",
        "    fxh1 = f(x)\n",
        "\n",
        "    # f(x-h)\n",
        "    x[idx] = tmp_val - h \n",
        "    fxh2 = f(x)\n",
        "    grad[idx] = (fxh1 - fxh2) / (2*h)\n",
        "    \n",
        "    x[idx] = tmp_val\n",
        "\n",
        "  return grad   "
      ],
      "execution_count": 74,
      "outputs": []
    },
    {
      "cell_type": "code",
      "metadata": {
        "colab": {
          "base_uri": "https://localhost:8080/"
        },
        "id": "wgH8xkGYlMsP",
        "outputId": "7440c1eb-896b-4229-a7c8-e53a8bba4b07"
      },
      "source": [
        "numerical_gradient(function_2, np.array([3.0,4.0]))"
      ],
      "execution_count": 75,
      "outputs": [
        {
          "output_type": "execute_result",
          "data": {
            "text/plain": [
              "array([6., 8.])"
            ]
          },
          "metadata": {
            "tags": []
          },
          "execution_count": 75
        }
      ]
    },
    {
      "cell_type": "code",
      "metadata": {
        "colab": {
          "base_uri": "https://localhost:8080/"
        },
        "id": "OCwKBgN5ld-Y",
        "outputId": "b157825b-4d9c-4075-9bfe-9c916a39139a"
      },
      "source": [
        "numerical_gradient(function_2, np.array([0.0,2.0]))"
      ],
      "execution_count": 76,
      "outputs": [
        {
          "output_type": "execute_result",
          "data": {
            "text/plain": [
              "array([0., 4.])"
            ]
          },
          "metadata": {
            "tags": []
          },
          "execution_count": 76
        }
      ]
    },
    {
      "cell_type": "code",
      "metadata": {
        "colab": {
          "base_uri": "https://localhost:8080/"
        },
        "id": "AkRc6xw0lieY",
        "outputId": "b39e263d-2051-41a5-fa94-a3aaaa80d387"
      },
      "source": [
        "numerical_gradient(function_2, np.array([3.0,0.0]))"
      ],
      "execution_count": 77,
      "outputs": [
        {
          "output_type": "execute_result",
          "data": {
            "text/plain": [
              "array([6., 0.])"
            ]
          },
          "metadata": {
            "tags": []
          },
          "execution_count": 77
        }
      ]
    },
    {
      "cell_type": "markdown",
      "metadata": {
        "id": "zAE8oCWjsWJU"
      },
      "source": [
        "* インデントが揃ってないせいで、数値が合わないミス。。。"
      ]
    },
    {
      "cell_type": "markdown",
      "metadata": {
        "id": "NLSCjdBY3G4j"
      },
      "source": [
        "### 勾配法"
      ]
    },
    {
      "cell_type": "code",
      "metadata": {
        "id": "s6W0fkWBsE2m"
      },
      "source": [
        "def gradient_decent(f, init_X, lr = 0.01 , step_num =100):\n",
        "  x = init_X\n",
        "\n",
        "  for i in range(step_num):\n",
        "    grad = numerical_gradient(f,x)\n",
        "    x -= lr*grad\n",
        "\n",
        "  return x"
      ],
      "execution_count": 78,
      "outputs": []
    },
    {
      "cell_type": "code",
      "metadata": {
        "colab": {
          "base_uri": "https://localhost:8080/"
        },
        "id": "yNGQRiId3MEg",
        "outputId": "f514cb76-76e8-4d38-f62f-e3cdafe76b70"
      },
      "source": [
        "def function_2(x):\n",
        "  return sum(x**2)\n",
        "\n",
        "init_X = np.array([-3.0,4.0])\n",
        "\n",
        "gradient_decent(function_2,init_X=init_X , lr = 10 ,step_num =100)"
      ],
      "execution_count": 79,
      "outputs": [
        {
          "output_type": "execute_result",
          "data": {
            "text/plain": [
              "array([-2.58983747e+13, -1.29524862e+12])"
            ]
          },
          "metadata": {
            "tags": []
          },
          "execution_count": 79
        }
      ]
    },
    {
      "cell_type": "code",
      "metadata": {
        "id": "s7yAJU2b4Mo_"
      },
      "source": [
        "import sys,os\n",
        "sys.path.append(os.pardir)\n",
        "import numpy as np\n",
        "from common.functions import softmax , cross_entropy_error\n",
        "from common.gradient import numerical_gradient \n"
      ],
      "execution_count": 80,
      "outputs": []
    },
    {
      "cell_type": "code",
      "metadata": {
        "id": "oXvJ8XS65ryt"
      },
      "source": [
        "class simpleNet:\n",
        "  def __init__(self):\n",
        "    self.W = np.random.randn(2,3)\n",
        "\n",
        "  def predict(self,x):\n",
        "    return np.dot(x,self.W)#dotは内積\n",
        "\n",
        "  def loss(self,x,t):\n",
        "    z = self.predict(x)\n",
        "    y = softmax(z)\n",
        "    loss = cross_entropy_error(y,t)\n",
        "\n",
        "    return loss"
      ],
      "execution_count": 81,
      "outputs": []
    },
    {
      "cell_type": "code",
      "metadata": {
        "colab": {
          "base_uri": "https://localhost:8080/"
        },
        "id": "VrdhIfJx6Rg2",
        "outputId": "a96e8f75-6756-461d-9032-4d0ce0de652f"
      },
      "source": [
        "net = simpleNet()\n",
        "print(net.W)"
      ],
      "execution_count": 82,
      "outputs": [
        {
          "output_type": "stream",
          "text": [
            "[[-0.94810972  1.37296062 -0.79353224]\n",
            " [ 0.7799527   1.98953347 -0.94474279]]\n"
          ],
          "name": "stdout"
        }
      ]
    },
    {
      "cell_type": "code",
      "metadata": {
        "colab": {
          "base_uri": "https://localhost:8080/"
        },
        "id": "Kayw2fWB6iZ2",
        "outputId": "1e5a9ec7-f5e0-4576-d4c7-308ea9e1470e"
      },
      "source": [
        "x = np.array([0.6,0.9])\n",
        "p = net.predict(x)\n",
        "p"
      ],
      "execution_count": 83,
      "outputs": [
        {
          "output_type": "execute_result",
          "data": {
            "text/plain": [
              "array([ 0.13309159,  2.61435649, -1.32638786])"
            ]
          },
          "metadata": {
            "tags": []
          },
          "execution_count": 83
        }
      ]
    },
    {
      "cell_type": "code",
      "metadata": {
        "colab": {
          "base_uri": "https://localhost:8080/"
        },
        "id": "4AyPgCP76tcN",
        "outputId": "736e5cc1-38f9-4b95-8fe6-584a13fc8bdb"
      },
      "source": [
        "np.argmax(p)"
      ],
      "execution_count": 84,
      "outputs": [
        {
          "output_type": "execute_result",
          "data": {
            "text/plain": [
              "1"
            ]
          },
          "metadata": {
            "tags": []
          },
          "execution_count": 84
        }
      ]
    },
    {
      "cell_type": "code",
      "metadata": {
        "colab": {
          "base_uri": "https://localhost:8080/"
        },
        "id": "Le2Cp_6n7CCg",
        "outputId": "63d4e56f-01f5-40f4-a4c4-eb86654777b8"
      },
      "source": [
        "t = np.array([0,0,1])\n",
        "net.loss(x,t)"
      ],
      "execution_count": 85,
      "outputs": [
        {
          "output_type": "execute_result",
          "data": {
            "text/plain": [
              "4.038836879685732"
            ]
          },
          "metadata": {
            "tags": []
          },
          "execution_count": 85
        }
      ]
    },
    {
      "cell_type": "code",
      "metadata": {
        "id": "jPpaIiIC7QO_"
      },
      "source": [
        "def f(W):\n",
        "  return net.loss(x,t)"
      ],
      "execution_count": 86,
      "outputs": []
    },
    {
      "cell_type": "code",
      "metadata": {
        "colab": {
          "base_uri": "https://localhost:8080/"
        },
        "id": "hbXH2f5g7jWt",
        "outputId": "c923ecbd-8419-4333-dc41-97f459233081"
      },
      "source": [
        "dW = numerical_gradient(f,net.W)\n",
        "dW"
      ],
      "execution_count": 87,
      "outputs": [
        {
          "output_type": "execute_result",
          "data": {
            "text/plain": [
              "array([[ 0.04549311,  0.54393283, -0.58942594],\n",
              "       [ 0.06823966,  0.81589925, -0.88413891]])"
            ]
          },
          "metadata": {
            "tags": []
          },
          "execution_count": 87
        }
      ]
    },
    {
      "cell_type": "markdown",
      "metadata": {
        "id": "OPHylTC98Sjm"
      },
      "source": [
        ""
      ]
    },
    {
      "cell_type": "markdown",
      "metadata": {
        "id": "NSQLqwOi8Std"
      },
      "source": [
        "### 学習アルゴリズムの実装"
      ]
    },
    {
      "cell_type": "code",
      "metadata": {
        "id": "qHWPa3pd8XZe"
      },
      "source": [
        "import sys,os\n",
        "sys.path.append(os.pardir)\n",
        "import numpy as np\n",
        "from common.functions import *\n",
        "from common.gradient import numerical_gradient "
      ],
      "execution_count": 88,
      "outputs": []
    },
    {
      "cell_type": "code",
      "metadata": {
        "id": "pNZr-z5M8g4P"
      },
      "source": [
        "class TwoLayerNet:\n",
        "\n",
        "  def __init__(self, input_size, hidden_size, output_size, weight_init_std=0.01):\n",
        "      self.params = {}\n",
        "      self.params['W1'] = weight_init_std * np.random.randn(input_size,hidden_size)#第1層の重み\n",
        "      self.params['b1'] = np.zeros(hidden_size)#第1層のバイアス\n",
        "      self.params['W2'] = weight_init_std * np.random.randn(hidden_size,output_size)#第2層の重み\n",
        "      self.params['b2'] = np.zeros(output_size)#第2層のバイアス\n",
        "    \n",
        "  def predict(self,x):\n",
        "      W1,W2 = self.params['W1'], self.params['W2'] \n",
        "      b1,b2 = self.params['b1'], self.params['b2']\n",
        "\n",
        "      a1 = np.dot(x,W1) + b1  \n",
        "      z1 = sigmoid(a1)\n",
        "      a2 = np.dot(z1,W2) + b2\n",
        "      y = softmax(a2)\n",
        "\n",
        "      return y\n",
        "\n",
        "  def load(self,x,t):\n",
        "      y = self.predict(x)#xは画像データ\n",
        "\n",
        "      return cross_entropy_error(y,t)\n",
        "\n",
        "  def accuracy(self,x,t):\n",
        "      y = self.predict(x)\n",
        "      y = np.argmax(y,axis = 1)\n",
        "      t = np.argmax(t,axis = 1)\n",
        "\n",
        "      accuracy =np.sum(y==t)/float(x.shape[0])\n",
        "      return accuracy\n",
        "\n",
        "  def numerical_gradient(self,x,t):\n",
        "      loss_W = lambda W: self.loss(x,t)\n",
        "    \n",
        "      grads = {}\n",
        "      grads['W1'] = numarical_gradient(loss_W , self.params['W1'])#第1層の重みの勾配\n",
        "      grads['b1'] = numarical_gradient(loss_W , self.params['b1'])#第1層のバイアスの勾配\n",
        "      grads['W2'] = numarical_gradient(loss_W , self.params['W2'])#第2層の重みの勾配\n",
        "      grads['b2'] = numarical_gradient(loss_W , self.params['b2'])#第2層のバイアスの勾配\n",
        "\n",
        "      return grads"
      ],
      "execution_count": 89,
      "outputs": []
    },
    {
      "cell_type": "markdown",
      "metadata": {
        "id": "IoSaiXJEApZE"
      },
      "source": [
        "* TwoLayerNetクラスにはparams と　grads というインスタンス変数を持つ"
      ]
    },
    {
      "cell_type": "code",
      "metadata": {
        "colab": {
          "base_uri": "https://localhost:8080/"
        },
        "id": "ycIoyiZ3ApDG",
        "outputId": "3fe3e85d-5561-4cad-f956-65fab862a74a"
      },
      "source": [
        "net = TwoLayerNet(input_size=784,hidden_size=100,output_size=10)\n",
        "net.params['W1'].shape"
      ],
      "execution_count": 90,
      "outputs": [
        {
          "output_type": "execute_result",
          "data": {
            "text/plain": [
              "(784, 100)"
            ]
          },
          "metadata": {
            "tags": []
          },
          "execution_count": 90
        }
      ]
    },
    {
      "cell_type": "code",
      "metadata": {
        "id": "ftHiaZufA-WN"
      },
      "source": [
        "x = np.random.rand(100,784)\n",
        "y = net.predict(x)"
      ],
      "execution_count": 91,
      "outputs": []
    },
    {
      "cell_type": "markdown",
      "metadata": {
        "id": "7uONljdaMHNB"
      },
      "source": [
        "* two_layer_net.pyから引用 "
      ]
    },
    {
      "cell_type": "code",
      "metadata": {
        "id": "pXpFYSMgLtWQ"
      },
      "source": [
        "# coding: utf-8\n",
        "import sys, os\n",
        "sys.path.append(os.pardir)  # 親ディレクトリのファイルをインポートするための設定\n",
        "from common.functions import *\n",
        "from common.gradient import numerical_gradient\n",
        "import numpy as np\n",
        "\n",
        "\n",
        "class TwoLayerNet:\n",
        "\n",
        "    def __init__(self, input_size, hidden_size, output_size, weight_init_std=0.01):\n",
        "        # 重みの初期化\n",
        "        self.params = {}\n",
        "        self.params['W1'] = weight_init_std * np.random.randn(input_size, hidden_size)\n",
        "        self.params['b1'] = np.zeros(hidden_size)\n",
        "        self.params['W2'] = weight_init_std * np.random.randn(hidden_size, output_size)\n",
        "        self.params['b2'] = np.zeros(output_size)\n",
        "\n",
        "    def predict(self, x):\n",
        "        W1, W2 = self.params['W1'], self.params['W2']\n",
        "        b1, b2 = self.params['b1'], self.params['b2']\n",
        "    \n",
        "        a1 = np.dot(x, W1) + b1\n",
        "        z1 = sigmoid(a1)\n",
        "        a2 = np.dot(z1, W2) + b2\n",
        "        y = softmax(a2)\n",
        "        \n",
        "        return y\n",
        "        \n",
        "    # x:入力データ, t:教師データ\n",
        "    def loss(self, x, t):\n",
        "        y = self.predict(x)\n",
        "        \n",
        "        return cross_entropy_error(y, t)\n",
        "    \n",
        "    def accuracy(self, x, t):\n",
        "        y = self.predict(x)\n",
        "        y = np.argmax(y, axis=1)\n",
        "        t = np.argmax(t, axis=1)\n",
        "        \n",
        "        accuracy = np.sum(y == t) / float(x.shape[0])\n",
        "        return accuracy\n",
        "        \n",
        "    # x:入力データ, t:教師データ\n",
        "    def numerical_gradient(self, x, t):\n",
        "        loss_W = lambda W: self.loss(x, t)\n",
        "        \n",
        "        grads = {}\n",
        "        grads['W1'] = numerical_gradient(loss_W, self.params['W1'])\n",
        "        grads['b1'] = numerical_gradient(loss_W, self.params['b1'])\n",
        "        grads['W2'] = numerical_gradient(loss_W, self.params['W2'])\n",
        "        grads['b2'] = numerical_gradient(loss_W, self.params['b2'])\n",
        "        \n",
        "        return grads\n",
        "        \n",
        "    def gradient(self, x, t):\n",
        "        W1, W2 = self.params['W1'], self.params['W2']\n",
        "        b1, b2 = self.params['b1'], self.params['b2']\n",
        "        grads = {}\n",
        "        \n",
        "        batch_num = x.shape[0]\n",
        "        \n",
        "        # forward\n",
        "        a1 = np.dot(x, W1) + b1\n",
        "        z1 = sigmoid(a1)\n",
        "        a2 = np.dot(z1, W2) + b2\n",
        "        y = softmax(a2)\n",
        "        \n",
        "        # backward\n",
        "        dy = (y - t) / batch_num\n",
        "        grads['W2'] = np.dot(z1.T, dy)\n",
        "        grads['b2'] = np.sum(dy, axis=0)\n",
        "        \n",
        "        dz1 = np.dot(dy, W2.T)\n",
        "        da1 = sigmoid_grad(a1) * dz1\n",
        "        grads['W1'] = np.dot(x.T, da1)\n",
        "        grads['b1'] = np.sum(da1, axis=0)\n",
        "\n",
        "        return grads\n"
      ],
      "execution_count": 92,
      "outputs": []
    },
    {
      "cell_type": "code",
      "metadata": {
        "id": "BFknix98IIK7"
      },
      "source": [
        "import numpy as np\n",
        "from dataset.mnist import load_mnist\n",
        "from common.gradient import numerical_gradient \n",
        "\n",
        "learning_rate = 0.1\n",
        "\n",
        "(x_train,t_train),(w_test,t_test) = load_mnist(normalize = True , one_hot_label = True)\n",
        "\n",
        "train_loss_list = []\n",
        "\n",
        "iters_num = 10000\n",
        "train_size = x_train.shape[0]\n",
        "batch_size = 100\n",
        "lerning_rate = 0.1\n",
        "\n",
        "network = TwoLayerNet(input_size=28*28 , hidden_size=50 , output_size=10)\n",
        "\n",
        "#for i in range(iters_num):\n",
        "#  batch_mask = np.random.choice(train_size,batch_size)\n",
        "#  x_batch = x_train[batch_mask]\n",
        "#  t_batch = t_train[batch_mask]\n",
        "\n",
        "#  grad = network.numerical_gradient(x_batch,t_batch)\n",
        "\n",
        "#  for key in ('W1','b1','W2','b2'):\n",
        "#    network.params[key] -= learning_rate * grad[key]\n",
        "\n",
        "#  loss = network.loss(x_batch,t_batch)\n",
        "#  train_loss_list.append(loss)"
      ],
      "execution_count": 93,
      "outputs": []
    },
    {
      "cell_type": "markdown",
      "metadata": {
        "id": "_NXSETukNjc7"
      },
      "source": [
        "* ↑はミニバッチに対する損失関数の値。trainに対する値。#なぜかすごい時間かかって実行できなかった。\n",
        "* ↓validに対する評価を実施する。"
      ]
    },
    {
      "cell_type": "code",
      "metadata": {
        "id": "jVuVXxBENWbo"
      },
      "source": [
        "import sys, os\n",
        "sys.path.append(os.pardir)  # 親ディレクトリのファイルをインポートするための設定\n",
        "import numpy as np\n",
        "import matplotlib.pyplot as plt\n",
        "from dataset.mnist import load_mnist\n",
        "#from two_layer_net import TwoLayerNet\n",
        "\n",
        "# データの読み込み\n",
        "(x_train, t_train), (x_test, t_test) = load_mnist(normalize=True, one_hot_label=True)\n",
        "\n",
        "network = TwoLayerNet(input_size=784, hidden_size=50, output_size=10)\n",
        "\n",
        "iters_num = 10000  # 繰り返しの回数を適宜設定する\n",
        "train_size = x_train.shape[0]\n",
        "batch_size = 100\n",
        "learning_rate = 0.1\n",
        "\n",
        "train_loss_list = []\n",
        "train_acc_list = []\n",
        "test_acc_list = []\n",
        "\n",
        "iter_per_epoch = max(train_size / batch_size, 1)\n",
        "\n",
        "#for i in range(iters_num):\n",
        "#    batch_mask = np.random.choice(train_size, batch_size)\n",
        "#    x_batch = x_train[batch_mask]\n",
        "#    t_batch = t_train[batch_mask]\n",
        "    \n",
        "    # 勾配の計算\n",
        "    #grad = network.numerical_gradient(x_batch, t_batch)\n",
        "#    grad = network.gradient(x_batch, t_batch)\n",
        "    \n",
        "    # パラメータの更新\n",
        "#    for key in ('W1', 'b1', 'W2', 'b2'):\n",
        "#        network.params[key] -= learning_rate * grad[key]\n",
        "    \n",
        "#    loss = network.loss(x_batch, t_batch)\n",
        "#    train_loss_list.append(loss)\n",
        "    \n",
        "#    if i % iter_per_epoch == 0:\n",
        "#        train_acc = network.accuracy(x_train, t_train)\n",
        "#        test_acc = network.accuracy(x_test, t_test)\n",
        "#        train_acc_list.append(train_acc)\n",
        "#        test_acc_list.append(test_acc)\n",
        "#        print(\"train acc, test acc | \" + str(train_acc) + \", \" + str(test_acc))\n",
        "\n",
        "# グラフの描画\n",
        "#markers = {'train': 'o', 'test': 's'}\n",
        "#x = np.arange(len(train_acc_list))\n",
        "#plt.plot(x, train_acc_list, label='train acc')\n",
        "#plt.plot(x, test_acc_list, label='test acc', linestyle='--')\n",
        "#plt.xlabel(\"epochs\")\n",
        "#plt.ylabel(\"accuracy\")\n",
        "#plt.ylim(0, 1.0)\n",
        "#plt.legend(loc='lower right')\n",
        "#plt.show()"
      ],
      "execution_count": 94,
      "outputs": []
    },
    {
      "cell_type": "markdown",
      "metadata": {
        "id": "212J52Q-JNS7"
      },
      "source": [
        "## ch05 誤差逆伝播法"
      ]
    },
    {
      "cell_type": "markdown",
      "metadata": {
        "id": "SLvh3dDWKhHZ"
      },
      "source": [
        "* 計算グラフでは、計算は局所的なものである。\n",
        "* 計算グラフでは、逆方向の伝播によって、微分を効率よく計算できる  \n",
        "   * 各変数の微分の値を効率よく求めれる.\n",
        "* 連鎖律：『ある関数が合成関数で表される場合、その合成関数の微分は、合成関数を構成するそれぞれの関数の微分の積によって表すことができる。』\n",
        "\n",
        "　"
      ]
    },
    {
      "cell_type": "markdown",
      "metadata": {
        "id": "IAqYkZZtOf2k"
      },
      "source": [
        "### 単純なレイヤの実装"
      ]
    },
    {
      "cell_type": "code",
      "metadata": {
        "id": "dpH3uIPlOiJ2"
      },
      "source": [
        "# 乗算レイヤ\n",
        "# dout:微分\n",
        "class MulLayer:\n",
        "  def __init__(self):\n",
        "    self.x = None\n",
        "    self.y = None\n",
        "\n",
        "  def forward(self,x,y):\n",
        "    self.x = x\n",
        "    self.y = y\n",
        "    out = x*y\n",
        "    return out\n",
        "\n",
        "  def backward(self,dout):\n",
        "    dx = dout * self.y\n",
        "    dy = dout * self.x\n",
        "    return dx , dy"
      ],
      "execution_count": 95,
      "outputs": []
    },
    {
      "cell_type": "code",
      "metadata": {
        "colab": {
          "base_uri": "https://localhost:8080/"
        },
        "id": "pfF9K6fxO3sM",
        "outputId": "d7c653f0-ba1f-4b42-a18a-fff3ae25c6e1"
      },
      "source": [
        "#りんごの順伝播\n",
        "apple = 100\n",
        "apple_num = 2\n",
        "tax =1.1\n",
        "\n",
        "#layer \n",
        "mul_apple_layer = MulLayer()\n",
        "mul_tax_layer = MulLayer()\n",
        "\n",
        "#forward \n",
        "apple_price = mul_apple_layer.forward(apple,apple_num)\n",
        "price = mul_tax_layer.forward(apple_price,tax)\n",
        "\n",
        "print(price)"
      ],
      "execution_count": 96,
      "outputs": [
        {
          "output_type": "stream",
          "text": [
            "220.00000000000003\n"
          ],
          "name": "stdout"
        }
      ]
    },
    {
      "cell_type": "code",
      "metadata": {
        "colab": {
          "base_uri": "https://localhost:8080/"
        },
        "id": "lwSRtvLCQUCN",
        "outputId": "ba9b5bf0-f6ff-412e-bd50-116ad0ea1566"
      },
      "source": [
        "# backward \n",
        "dprice = 1\n",
        "\n",
        "dapple_price ,dtax = mul_tax_layer.backward(dprice)\n",
        "dapple,dapple_num = mul_apple_layer.backward(dapple_price)\n",
        "\n",
        "print(dapple,dapple_num,dtax)"
      ],
      "execution_count": 97,
      "outputs": [
        {
          "output_type": "stream",
          "text": [
            "2.2 110.00000000000001 200\n"
          ],
          "name": "stdout"
        }
      ]
    },
    {
      "cell_type": "code",
      "metadata": {
        "id": "P4Rz75yWQtvm"
      },
      "source": [
        "# 加算レイヤ\n",
        "# passは何も行わないということ。\n",
        "class AddLayer:\n",
        "  def __init__(self):\n",
        "    pass\n",
        "\n",
        "  def forward(self,x,y):\n",
        "    out = x + y\n",
        "    return out\n",
        "\n",
        "  def backward(self,dout):\n",
        "    dx = dout * 1\n",
        "    dy = dout * 1\n",
        "    return dx , dy"
      ],
      "execution_count": 98,
      "outputs": []
    },
    {
      "cell_type": "code",
      "metadata": {
        "colab": {
          "base_uri": "https://localhost:8080/"
        },
        "id": "GOV6i7DtQ8Te",
        "outputId": "9f136b35-24ee-492f-e2ca-1c7c897e2e70"
      },
      "source": [
        "#りんごとオレンジのの順伝播\n",
        "apple = 100\n",
        "apple_num = 2\n",
        "orange = 150\n",
        "orange_num = 3\n",
        "tax =1.1\n",
        "\n",
        "#layer \n",
        "mul_apple_layer = MulLayer()\n",
        "mul_orange_layer = MulLayer()\n",
        "add_apple_orange_layer = AddLayer()\n",
        "mul_tax_layer = MulLayer()\n",
        "\n",
        "#forward \n",
        "apple_price = mul_apple_layer.forward(apple,apple_num)\n",
        "orange_price = mul_orange_layer.forward(orange,orange_num)\n",
        "all_price = add_apple_orange_layer.forward(apple_price,orange_price)\n",
        "price = mul_tax_layer.forward(all_price,tax)\n",
        "\n",
        "#backward\n",
        "dprice = 1\n",
        "dall_price ,dtax = mul_tax_layer.backward(dprice)\n",
        "dapple_price,dorange_price = add_apple_orange_layer.backward(dall_price)\n",
        "dorange , dorange_num = mul_orange_layer.backward(dorange_price)\n",
        "dapple , dapple_num = mul_orange_layer.backward(dapple_price)\n",
        "\n",
        "print(price)\n",
        "print(dorange , dorange_num ,dapple , dapple_num)"
      ],
      "execution_count": 99,
      "outputs": [
        {
          "output_type": "stream",
          "text": [
            "715.0000000000001\n",
            "3.3000000000000003 165.0 3.3000000000000003 165.0\n"
          ],
          "name": "stdout"
        }
      ]
    },
    {
      "cell_type": "markdown",
      "metadata": {
        "id": "PbYgvuurTcSI"
      },
      "source": [
        "### 活性化関数レイヤ "
      ]
    },
    {
      "cell_type": "code",
      "metadata": {
        "id": "_wPVVaFCTeNZ"
      },
      "source": [
        "class Relu:\n",
        "  def __init__(self):\n",
        "    self.mask = None\n",
        "\n",
        "  def forward(self,x):\n",
        "    self.mask = (x <= 0)\n",
        "    out = x.copy()\n",
        "    out[self.mask] = 0\n",
        "\n",
        "    return out\n",
        "\n",
        "  def backward(self , dout):\n",
        "    dout[self.mask] = 0\n",
        "    dx = dout \n",
        "    return dx"
      ],
      "execution_count": 100,
      "outputs": []
    },
    {
      "cell_type": "markdown",
      "metadata": {
        "id": "YAmh-El16Vn3"
      },
      "source": [
        "* mask変数は0より小さいとT/0より大きいとFを返す"
      ]
    },
    {
      "cell_type": "code",
      "metadata": {
        "colab": {
          "base_uri": "https://localhost:8080/"
        },
        "id": "N4j-tAWu57bq",
        "outputId": "5f9bd41a-beb8-46c6-ad89-1acb862be973"
      },
      "source": [
        "x = np.array([[1.0,-0.5],[-2.0,3.0]])\n",
        "x"
      ],
      "execution_count": 101,
      "outputs": [
        {
          "output_type": "execute_result",
          "data": {
            "text/plain": [
              "array([[ 1. , -0.5],\n",
              "       [-2. ,  3. ]])"
            ]
          },
          "metadata": {
            "tags": []
          },
          "execution_count": 101
        }
      ]
    },
    {
      "cell_type": "code",
      "metadata": {
        "colab": {
          "base_uri": "https://localhost:8080/"
        },
        "id": "XYZGCfoi6KIM",
        "outputId": "27956fd4-d43b-4684-c27e-0cc9cc8c5856"
      },
      "source": [
        "mask = (x<=0)\n",
        "mask"
      ],
      "execution_count": 102,
      "outputs": [
        {
          "output_type": "execute_result",
          "data": {
            "text/plain": [
              "array([[False,  True],\n",
              "       [ True, False]])"
            ]
          },
          "metadata": {
            "tags": []
          },
          "execution_count": 102
        }
      ]
    },
    {
      "cell_type": "code",
      "metadata": {
        "id": "JqSjLS4B6N4O"
      },
      "source": [
        "# sigmoidレイヤ\n",
        "\n",
        "class Sigmoid:\n",
        "  def __init__(self):\n",
        "    self.out = None\n",
        "\n",
        "  def forward(self,x):\n",
        "    out = 1/(1+np.exp(-x))\n",
        "    self.out = out\n",
        "\n",
        "    return out\n",
        "\n",
        "  def backward(self,dout):\n",
        "    dx = dout * (1.0 - self.out) * self.out\n",
        "\n",
        "    return dx"
      ],
      "execution_count": 103,
      "outputs": []
    },
    {
      "cell_type": "markdown",
      "metadata": {
        "id": "gJ3fuEAG8MtC"
      },
      "source": [
        "### Affine/Softmax"
      ]
    },
    {
      "cell_type": "markdown",
      "metadata": {
        "id": "BUHFbnXY8fKJ"
      },
      "source": [
        "*  ニューラルネットワークの順伝播を行う行列の積の事をアフィン変換という。"
      ]
    },
    {
      "cell_type": "code",
      "metadata": {
        "id": "hwR7PSu18Pd2"
      },
      "source": [
        "class Affine:\n",
        "    def __init__(self, W, b):\n",
        "        self.W = W\n",
        "        self.b = b\n",
        "        self.x = None\n",
        "        self.dW = None\n",
        "        self.db = None\n",
        "\n",
        "    def forward(self, x):\n",
        "        self.x = x\n",
        "        out = np.dot(self.x, self.W) + self.b\n",
        "\n",
        "        return out\n",
        "\n",
        "    def backward(self, dout):\n",
        "        dx = np.dot(dout, self.W.T)\n",
        "        self.dW = np.dot(self.x.T, dout)\n",
        "        self.db = np.sum(dout, axis=0)\n",
        "        \n",
        "        dx = dx.reshape(*self.original_x_shape)  # 入力データの形状に戻す（テンソル対応）\n",
        "        return dx"
      ],
      "execution_count": 104,
      "outputs": []
    },
    {
      "cell_type": "code",
      "metadata": {
        "id": "XiUhoSYJ-sGW"
      },
      "source": [
        "class SoftmaxWithLoss:\n",
        "    def __init__(self):\n",
        "        self.loss = None\n",
        "        self.y = None # softmaxの出力\n",
        "        self.t = None # 教師データ\n",
        "\n",
        "    def forward(self, x, t):\n",
        "        self.t = t\n",
        "        self.y = softmax(x)\n",
        "        self.loss = cross_entropy_error(self.y, self.t)\n",
        "        \n",
        "        return self.loss\n",
        "\n",
        "    def backward(self, dout=1):\n",
        "        batch_size = self.t.shape[0]\n",
        "        dx = (self.y - self.t) / batch_size\n",
        "        \n",
        "        return dx\n"
      ],
      "execution_count": 105,
      "outputs": []
    },
    {
      "cell_type": "markdown",
      "metadata": {
        "id": "qVPLd2HmX-f5"
      },
      "source": [
        "### 誤差逆伝播法"
      ]
    },
    {
      "cell_type": "markdown",
      "metadata": {
        "id": "_PnAgyi7YgSV"
      },
      "source": [
        "* ステップ1：ミニバッチ - 訓練データの中からランダムに一部のデータを選び出す\n",
        "* ステップ2：勾配の算出 - 各重みパラメータに関する損失関数の勾配を求める\n",
        "* ステップ3：パラメータの更新：重みを購買方向に微少量だけ更新する。\n",
        "* ステップ4：ステップ1~3を繰り返す  \n",
        "  \n",
        "  誤差逆伝播法はステップ２で利用する。\n",
        "\n"
      ]
    },
    {
      "cell_type": "code",
      "metadata": {
        "id": "5r1Fn4MFYAuQ"
      },
      "source": [
        "import sys , os\n",
        "sys.path.append(os.pardir)\n",
        "import numpy as np\n",
        "from common.layers import *\n",
        "from common.gradient import numerical_gradient\n",
        "from collections import OrderedDict\n",
        "\n",
        "class TwoLayerNet:\n",
        "  def __init__(self , input_size , hidden_size , output_size , weight_init_std = 0.01):\n",
        "\n",
        "      #重みの初期化\n",
        "      self.params = {}\n",
        "      self.params['W1'] = weight_init_std * np.random.randn(input_size , hidden_size)\n",
        "      self.params['b1'] = np.zeros(hidden_size)\n",
        "      self.params['W2'] = weight_init_std * np.random.randn(hidden_size , output_size)\n",
        "      self.params['b2'] = np.zeros(output_size)\n",
        "     \n",
        "     #レイヤの生成\n",
        "      self.layers = OrderedDict()\n",
        "      self.layers['Affine1'] = Affine(self.params['W1'], self.params['b1'])\n",
        "      self.layers['Relu1'] = Relu()\n",
        "      self.layers['Affine2'] = Affine(self.params['W2'], self.params['b2'])\n",
        "     \n",
        "      self.lastLayer = SoftmaxWithLoss()\n",
        "\n",
        "  def predict(self , x):\n",
        "    for layer in self.layers.values():\n",
        "      x = layer.forward(x)\n",
        "\n",
        "      return x\n",
        "\n",
        "  def loss(self,x,t):\n",
        "    y = self.predict(x)\n",
        "    return set.lastLayer.forward(y,t)\n",
        "\n",
        "  def accuracy(self,x,t):\n",
        "    y = self.predict(x)\n",
        "    y = np.argmax(y , axis = 1)\n",
        "    if t.ndim != 1 : t = np.argmax(t,axis =1)\n",
        "    \n",
        "    accuracy = np.sum(y == t) / float(x.shape[0])\n",
        "    return accuracy\n",
        "\n",
        "  def numerical_gradient(self,x,t):\n",
        "    loss_W = lambda W: self.loss(x,t)\n",
        "\n",
        "    grads = {}\n",
        "    grads['W1'] = numerical_gradient(loss_W, self.params['W1'])\n",
        "    grads['b1'] = numerical_gradient(loss_W, self.params['b1'])\n",
        "    grads['W2'] = numerical_gradient(loss_W, self.params['W2'])\n",
        "    grads['b2'] = numerical_gradient(loss_W, self.params['b2'])\n",
        "\n",
        "    return grads\n",
        "\n",
        "  def gradient(self , x ,t):\n",
        "    #forward\n",
        "    self.loss(x,t)\n",
        "    \n",
        "    #backward\n",
        "    dout = 1\n",
        "    dout = self.lastLayer.backward(dout)\n",
        "\n",
        "    layers = list(self.layers.values())\n",
        "    layers.reverse()\n",
        "    for layer in layers:\n",
        "      dout = layer.backward(dout)\n",
        "\n",
        "    grads = {}\n",
        "    grads['W1'] = numerical_gradient(self.layers['W1'])\n",
        "    grads['b1'] = numerical_gradient(self.layers['b1'])\n",
        "    grads['W2'] = numerical_gradient(self.layers['W2'])\n",
        "    grads['b2'] = numerical_gradient(self.layers['b2'])\n",
        "\n",
        "    return grads"
      ],
      "execution_count": 115,
      "outputs": []
    },
    {
      "cell_type": "code",
      "metadata": {
        "colab": {
          "base_uri": "https://localhost:8080/"
        },
        "id": "QmzRYUJ3aJZw",
        "outputId": "9b973ace-a41f-48ba-d24e-0888b744b820"
      },
      "source": [
        "os.chdir('/content/drive/MyDrive/deep-learning-from-scratch/ch05') \n",
        "#勾配確認\n",
        "import sys,os \n",
        "sys.path.append(os.pardir)\n",
        "import numpy as np\n",
        "from dataset.mnist import load_mnist\n",
        "from two_layer_net import TwoLayerNet\n",
        "\n",
        "(x_train,t_train) , (x_test,t_test) = load_mnist(normalize = True , one_hot_label= True)\n",
        "\n",
        "network = TwoLayerNet(input_size= 28**2, hidden_size = 50 , output_size= 10)\n",
        "\n",
        "x_batch = x_train[:3]\n",
        "t_batch = t_train[:3]\n",
        "\n",
        "grad_numerical = network.numerical_gradient(x_batch,t_batch)\n",
        "grad_backprop = network.gradient(x_batch,t_batch)\n",
        "\n",
        "for key in grad_numerical.keys():\n",
        "  diff = np.average(np.abs(grad_backprop[key] - grad_numerical[key]))\n",
        "  print(key + \":\" + str(diff))"
      ],
      "execution_count": 107,
      "outputs": [
        {
          "output_type": "stream",
          "text": [
            "W1:1.559984993410922e-07\n",
            "b1:1.256056080003335e-06\n",
            "W2:5.262407277290569e-09\n",
            "b2:1.4007404343097106e-07\n"
          ],
          "name": "stdout"
        }
      ]
    },
    {
      "cell_type": "code",
      "metadata": {
        "colab": {
          "base_uri": "https://localhost:8080/"
        },
        "id": "uoqRlFi7l2HC",
        "outputId": "78ec2912-0d6c-499c-d2ad-00120bd6316f"
      },
      "source": [
        "import numpy as np\n",
        "from dataset.mnist import load_mnist\n",
        "from two_layer_net import TwoLayerNet\n",
        "\n",
        "# データの読み込み\n",
        "(x_train, t_train), (x_test, t_test) = load_mnist(normalize=True, one_hot_label=True)\n",
        "\n",
        "network = TwoLayerNet(input_size=784, hidden_size=50, output_size=10)\n",
        "\n",
        "iters_num = 10000\n",
        "train_size = x_train.shape[0]\n",
        "batch_size = 100\n",
        "learning_rate = 0.1\n",
        "\n",
        "train_loss_list = []\n",
        "train_acc_list = []\n",
        "test_acc_list = []\n",
        "\n",
        "iter_per_epoch = max(train_size / batch_size, 1)\n",
        "\n",
        "for i in range(iters_num):\n",
        "    batch_mask = np.random.choice(train_size, batch_size)\n",
        "    x_batch = x_train[batch_mask]\n",
        "    t_batch = t_train[batch_mask]\n",
        "    \n",
        "    # 勾配\n",
        "    #grad = network.numerical_gradient(x_batch, t_batch)\n",
        "    grad = network.gradient(x_batch, t_batch)\n",
        "    \n",
        "    # 更新\n",
        "    for key in ('W1', 'b1', 'W2', 'b2'):\n",
        "        network.params[key] -= learning_rate * grad[key]\n",
        "    \n",
        "    loss = network.loss(x_batch, t_batch)\n",
        "    train_loss_list.append(loss)\n",
        "    \n",
        "    if i % iter_per_epoch == 0:\n",
        "        train_acc = network.accuracy(x_train, t_train)\n",
        "        test_acc = network.accuracy(x_test, t_test)\n",
        "        train_acc_list.append(train_acc)\n",
        "        test_acc_list.append(test_acc)\n",
        "        print(train_acc, test_acc)\n"
      ],
      "execution_count": 108,
      "outputs": [
        {
          "output_type": "stream",
          "text": [
            "0.11933333333333333 0.1176\n",
            "0.8971 0.9021\n",
            "0.92455 0.9272\n",
            "0.9353333333333333 0.9352\n",
            "0.9434166666666667 0.9425\n",
            "0.9481 0.9459\n",
            "0.9558333333333333 0.9525\n",
            "0.9598333333333333 0.9556\n",
            "0.9630333333333333 0.9585\n",
            "0.9661666666666666 0.9619\n",
            "0.9689833333333333 0.9632\n",
            "0.9706 0.9633\n",
            "0.9730333333333333 0.9655\n",
            "0.9744166666666667 0.9675\n",
            "0.9754166666666667 0.9662\n",
            "0.9773 0.968\n",
            "0.9770166666666666 0.9661\n"
          ],
          "name": "stdout"
        }
      ]
    },
    {
      "cell_type": "code",
      "metadata": {
        "id": "HvyUmOc8l2wL"
      },
      "source": [
        ""
      ],
      "execution_count": 108,
      "outputs": []
    },
    {
      "cell_type": "markdown",
      "metadata": {
        "id": "f4oTYWSyoRpR"
      },
      "source": [
        "## ch06 学習のテクニック"
      ]
    },
    {
      "cell_type": "code",
      "metadata": {
        "id": "eRKOqINSoYKR"
      },
      "source": [
        "class SGD:\n",
        "  def __init__(self,lr = 0.01):\n",
        "    self.lr = lr\n",
        "\n",
        "  def update(self,params,grads):\n",
        "    for key in params.keys():\n",
        "      params[key] -= self.lr * grads[key]"
      ],
      "execution_count": 109,
      "outputs": []
    },
    {
      "cell_type": "code",
      "metadata": {
        "id": "B-40SDuVuwSR"
      },
      "source": [
        "class Momentum:\n",
        "  def __init__(self, lr=0.01, momentum=0.9) :\n",
        "       self.lr = lr\n",
        "       self.momentum = momentum\n",
        "       self.v = None\n",
        "        \n",
        "  def update(self, params, grads) :\n",
        "        if self.v is None:\n",
        "            self.v = {}\n",
        "            for key, val in params.items():                                \n",
        "                self.v[key] = np.zeros_like(val)\n",
        "                \n",
        "        for key in params.keys():\n",
        "            self.v[key] = self.momentum*self.v[key] - self.lr*grads[key] \n",
        "            params[key] += self.v[key]"
      ],
      "execution_count": 110,
      "outputs": []
    },
    {
      "cell_type": "code",
      "metadata": {
        "id": "ZovX2XS5yCqK"
      },
      "source": [
        "class AdaGrad:\n",
        "\n",
        "    \"\"\"AdaGrad\"\"\"\n",
        "\n",
        "    def __init__(self, lr=0.01):\n",
        "        self.lr = lr\n",
        "        self.h = None\n",
        "        \n",
        "    def update(self, params, grads):\n",
        "        if self.h is None:\n",
        "            self.h = {}\n",
        "            for key, val in params.items():\n",
        "                self.h[key] = np.zeros_like(val)\n",
        "            \n",
        "        for key in params.keys():\n",
        "            self.h[key] += grads[key] * grads[key]\n",
        "            params[key] -= self.lr * grads[key] / (np.sqrt(self.h[key]) + 1e-7)"
      ],
      "execution_count": 111,
      "outputs": []
    },
    {
      "cell_type": "code",
      "metadata": {
        "id": "TeR9PSfHzWIX"
      },
      "source": [
        "\n",
        "class Adam:\n",
        "\n",
        "    \"\"\"Adam (http://arxiv.org/abs/1412.6980v8)\"\"\"\n",
        "\n",
        "    def __init__(self, lr=0.001, beta1=0.9, beta2=0.999):\n",
        "        self.lr = lr\n",
        "        self.beta1 = beta1\n",
        "        self.beta2 = beta2\n",
        "        self.iter = 0\n",
        "        self.m = None\n",
        "        self.v = None\n",
        "        \n",
        "    def update(self, params, grads):\n",
        "        if self.m is None:\n",
        "            self.m, self.v = {}, {}\n",
        "            for key, val in params.items():\n",
        "                self.m[key] = np.zeros_like(val)\n",
        "                self.v[key] = np.zeros_like(val)\n",
        "        \n",
        "        self.iter += 1\n",
        "        lr_t  = self.lr * np.sqrt(1.0 - self.beta2**self.iter) / (1.0 - self.beta1**self.iter)         \n",
        "        \n",
        "        for key in params.keys():\n",
        "            #self.m[key] = self.beta1*self.m[key] + (1-self.beta1)*grads[key]\n",
        "            #self.v[key] = self.beta2*self.v[key] + (1-self.beta2)*(grads[key]**2)\n",
        "            self.m[key] += (1 - self.beta1) * (grads[key] - self.m[key])\n",
        "            self.v[key] += (1 - self.beta2) * (grads[key]**2 - self.v[key])\n",
        "            \n",
        "            params[key] -= lr_t * self.m[key] / (np.sqrt(self.v[key]) + 1e-7)\n",
        "            \n",
        "            #unbias_m += (1 - self.beta1) * (grads[key] - self.m[key]) # correct bias\n",
        "            #unbisa_b += (1 - self.beta2) * (grads[key]*grads[key] - self.v[key]) # correct bias\n",
        "            #params[key] += self.lr * unbias_m / (np.sqrt(unbisa_b) + 1e-7)\n"
      ],
      "execution_count": 112,
      "outputs": []
    },
    {
      "cell_type": "markdown",
      "metadata": {
        "id": "qdrjs9No1dnd"
      },
      "source": [
        "### 様々なテクニック\n"
      ]
    },
    {
      "cell_type": "markdown",
      "metadata": {
        "id": "VI0bc7MAwrDV"
      },
      "source": [
        "* パラメーター更新  \n",
        "  * SGDは不効率な探索経路。Adamがいい。\n",
        "* weightの初期値  　　 \n",
        "  * weight０はそのまま通すだけなので、微妙\n",
        "  * 隠れ層の出力の分布の確認から得られるものが多い。  \n",
        "  * 適度に広がっていることが求められる。\n",
        "  * Xavierの重みの初期値：1/√nを初期値にする  \n",
        "  * ただし、活性化関数が線形であることを前提にしている。\n",
        "  * ReLuの場合の重み初期値：Heの初期値：2/√nを初期値にする  \n",
        "* Batch Normalization  \n",
        "  * Batch Normのメリット:学習を速くする\n",
        "  * Batch Normのメリット:初期値にさほど依存しない\n",
        "  * Batch Normのメリット:過学習の抑制\n",
        "* 過学習への対応：正則化  \n",
        "  * Weight decay :大きいWeightを持つことに対してペナルティを課している\n",
        "  * Dropout : 隠れ層のニューロンを消去する\n",
        "* ハイパラ\n",
        "  *  　"
      ]
    },
    {
      "cell_type": "markdown",
      "metadata": {
        "id": "nhSLtSs11Ep4"
      },
      "source": [
        "### ch07 CNN"
      ]
    },
    {
      "cell_type": "markdown",
      "metadata": {
        "id": "HoBvHR4u1xti"
      },
      "source": [
        "### 畳み込み層\n",
        "* 全結合の問題点：データの形状を1次元にしてしまうので、データの形状を無視してしまう。\n",
        "* それを回避するために畳み込み層を使う。\n",
        "  * 畳み込み演算とはフィルター演算\n",
        "* パディング：入力データの周囲に0埋めとかする。⇨出力サイズの調整などに使われる。\n",
        "* 畳み込みは３次元データでも使える。  \n",
        "  * 入力データとチャンネル数は一致させる。  \n"
      ]
    },
    {
      "cell_type": "markdown",
      "metadata": {
        "id": "UALMUBQJ5r3f"
      },
      "source": [
        "### プーリング層\n",
        "  * 縦横の空間を小さくする演算"
      ]
    },
    {
      "cell_type": "markdown",
      "metadata": {
        "id": "YFY9Krax6JWg"
      },
      "source": [
        "### Convolution/Poolingレイヤの実装\n",
        "*  im2colによる実装：フィルターにとって都合の良いように入力データを展開してくれる。image to clolumn\n"
      ]
    },
    {
      "cell_type": "code",
      "metadata": {
        "colab": {
          "base_uri": "https://localhost:8080/"
        },
        "id": "1FaaxdAQ5rYS",
        "outputId": "19ec4eec-45b8-4fb7-f6c4-e987d8b7c411"
      },
      "source": [
        "# convolutionレイヤの実装\n",
        "import sys,os\n",
        "sys.path.append(os.pardir)\n",
        "from common.util import im2col\n",
        "\n",
        "x1 = np.random.rand(1,3,7,7)\n",
        "col1 = im2col(x1,5,5,stride = 1 ,pad =0)\n",
        "col1.shape"
      ],
      "execution_count": 118,
      "outputs": [
        {
          "output_type": "execute_result",
          "data": {
            "text/plain": [
              "(9, 75)"
            ]
          },
          "metadata": {
            "tags": []
          },
          "execution_count": 118
        }
      ]
    },
    {
      "cell_type": "code",
      "metadata": {
        "colab": {
          "base_uri": "https://localhost:8080/"
        },
        "id": "9nIx5Qpg1G4l",
        "outputId": "eb9777f9-9afe-4e93-d6aa-92dca8f3a9ee"
      },
      "source": [
        "x2 = np.random.rand(10,3,7,7)\n",
        "col2 = im2col(x2,5,5,stride = 1 ,pad =0)\n",
        "\n",
        "\n",
        "col2.shape"
      ],
      "execution_count": 121,
      "outputs": [
        {
          "output_type": "execute_result",
          "data": {
            "text/plain": [
              "(90, 75)"
            ]
          },
          "metadata": {
            "tags": []
          },
          "execution_count": 121
        }
      ]
    },
    {
      "cell_type": "code",
      "metadata": {
        "id": "MyuJSLUk9RcD"
      },
      "source": [
        "#convolutionレイヤ\n",
        "#FN : Filter Number/FW:Filter Width/FH:Filter Hight \n",
        "class Convolution:\n",
        "  def __init__(self,w,b,stride = 1 , pad=0):\n",
        "    self.W = W\n",
        "    self.b = b\n",
        "    self.stride = stride\n",
        "    self.pad = pad\n",
        "\n",
        "  def forward(self,x):\n",
        "    FN,C,FH,FW = self.W.shape\n",
        "    N,C,FH,FW = self.W.shape\n",
        "    out_h = int(1 + (H + 2*self/pad - FH) / self.stride)\n",
        "    out_w = int(1 + (W + 2*self/pad - FW) / self.stride)\n",
        "\n",
        "    col = im2col(x , FH , FW , self.stride , self.pad)\n",
        "    col_W = self.W.reshape(FN, -1).T\n",
        "    out = np.dot(col,col_W) + self.b\n",
        "\n",
        "    out = out.reshape(N,out_h , out_W ,-1).transpose(0,3,1,2)\n",
        "    \n",
        "    return out "
      ],
      "execution_count": 124,
      "outputs": []
    },
    {
      "cell_type": "code",
      "metadata": {
        "id": "WDhXg4PM_Iuo"
      },
      "source": [
        "#Poolingレイヤ\n",
        "class Pooling:\n",
        "  def __init__(self,pool_h,pool_W,stride = 1 , pad=0):\n",
        "    self.pool_h = pool_h\n",
        "    self.pool_W = pool_W\n",
        "    self.stride = stride\n",
        "    self.pad = pad\n",
        "\n",
        "  def forward(self,x):\n",
        "    N,C,H,W = x.shape\n",
        "    out_h = int(1 - (H - self.pool_h) / self.stride)\n",
        "    out_w = int(1 - (W - self.pool_w) / self.stride)\n",
        "\n",
        "    col = im2col(x , self.pool_h , self.pool_w , self.stride , self.pad)\n",
        "    col = col.reshape(-1,self.pool_h*self.pool_w)\n",
        "\n",
        "    out = np.max(col,axis = 1 )\n",
        "\n",
        "    out = out.reshape(N,out_h , out_W , C).transpose(0,3,1,2)\n",
        "\n",
        "    return out "
      ],
      "execution_count": 125,
      "outputs": []
    },
    {
      "cell_type": "code",
      "metadata": {
        "id": "ZZmscBwODsQM"
      },
      "source": [
        "### CNNの実装\n",
        "class SimpleConvNet:\n",
        "  def __init__(self,\n",
        "               input_dim = (1,28,28),\n",
        "               conv_param = {'filter_num':30,'filter_size':5,'pad':0,'stride':1},\n",
        "               hidden_size = 100,\n",
        "               output_size = 10,\n",
        "               weight_init_std = 0.01):\n",
        "    filter_num    = conv_param['filter_num']\n",
        "    filter_size   = conv_param['filter_size']\n",
        "    filter_pad    = conv_param['pad']\n",
        "    filter_stride = conv_param['stride']\n",
        "    input_size    = input_dim[1]\n",
        "    conv_output_size = (input_size - filter_size + 2*filter_pad) / filter_stride + 1 \n",
        "    pool_outout_size = init(filter_num * (conv_output_size/2) * (conv_output_size)/2)   \n",
        "\n",
        "    self.params = {}\n",
        "    self.params['W1'] = weight_init_std + np.random.randn(filter_num,input_dim[0],filter_size,filter_size)\n",
        "    self.params['b1'] = np.zeros(filter_num)\n",
        "    self.params['W2'] = weight_init_std + np.random.randn(pool_output_size,hidden_size)\n",
        "    self.params['b2'] = np.zeros(filter_num)\n",
        "    self.params['W3'] = weight_init_std + np.random.randn(pool_output_size,output_size)\n",
        "    self.params['b3'] = np.zeros(filter_num,hidden_size)\n",
        "\n",
        "    self.layers = OrderedDict()\n",
        "    self.layers['Conv1'] = Convolution(self.params['W1'],\n",
        "                                       self.params['b1'],\n",
        "                                       conv_param['stride'],\n",
        "                                       conv_param['pad'])\n",
        "    self.layers['Relu1'] = Relu()\n",
        "    self.layers['Pool1'] = Pooling(pool_h=2, pool_w=2, stride=2)\n",
        "    self.layers['Affine1'] = Affine(self.params['W2'], self.params['b2'])\n",
        "    self.layers['Relu2'] = Relu()\n",
        "    self.layers['Affine2'] = Affine(self.params['W3'], self.params['b3'])\n",
        "\n",
        "    self.last_layer = SoftmaxWithLoss()\n",
        "\n",
        "    def predict(self, x):\n",
        "        for layer in self.layers.values():\n",
        "            x = layer.forward(x)\n",
        "\n",
        "        return x\n",
        "\n",
        "    def loss(self, x, t):\n",
        "        y = self.predict(x)\n",
        "        return self.last_layer.forward(y, t)\n",
        "\n",
        "    def gradient(self, x, t):\n",
        "        # forward\n",
        "        self.loss(x, t)\n",
        "\n",
        "        # backward\n",
        "        dout = 1\n",
        "        dout = self.last_layer.backward(dout)\n",
        "\n",
        "        layers = list(self.layers.values())\n",
        "        layers.reverse()\n",
        "        for layer in layers:\n",
        "            dout = layer.backward(dout)\n",
        "\n",
        "        # 設定\n",
        "        grads = {}\n",
        "        grads['W1'], grads['b1'] = self.layers['Conv1'].dW, self.layers['Conv1'].db\n",
        "        grads['W2'], grads['b2'] = self.layers['Affine1'].dW, self.layers['Affine1'].db\n",
        "        grads['W3'], grads['b3'] = self.layers['Affine2'].dW, self.layers['Affine2'].db\n",
        "\n",
        "        return grads\n",
        "        "
      ],
      "execution_count": 151,
      "outputs": []
    },
    {
      "cell_type": "markdown",
      "metadata": {
        "id": "qSCcDd5UNH1N"
      },
      "source": [
        "### 代表的なCNN\n",
        "\n",
        "* LeNet : シグモイド関数、畳み込み層とサブサンプリング層を連続して行っている(現在はプーリング層やReLuがメイン)\n",
        "* AlexNet：Dropoutなどを使う。\n",
        "* VGG：畳み込み層とプーリング層を16層まで深くしている。\n",
        "* GoogLeNet：縦に深いだけではなく、横の広がりがある。\n",
        "* ResNet：VGGをベースにして、スキップ構造を取り入れた。\n"
      ]
    }
  ]
}